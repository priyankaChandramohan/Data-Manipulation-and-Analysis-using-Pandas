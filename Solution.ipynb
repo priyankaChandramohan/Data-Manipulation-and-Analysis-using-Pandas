{
 "cells": [
  {
   "attachments": {},
   "cell_type": "markdown",
   "metadata": {},
   "source": [
    "# pandas \n"
   ]
  },
  {
   "attachments": {},
   "cell_type": "markdown",
   "metadata": {},
   "source": [
    "## Importing pandas\n",
    "\n",
    "### Getting started and checking your pandas setup\n",
    "\n",
    "Difficulty: *easy* \n",
    "\n",
    "**1.** Import pandas under the name `pd`."
   ]
  },
  {
   "cell_type": "code",
   "execution_count": 1,
   "metadata": {
    "collapsed": true
   },
   "outputs": [],
   "source": [
    "import pandas as pd"
   ]
  },
  {
   "attachments": {},
   "cell_type": "markdown",
   "metadata": {},
   "source": [
    "**2.** Print the version of pandas that has been imported."
   ]
  },
  {
   "cell_type": "code",
   "execution_count": 2,
   "metadata": {
    "collapsed": true
   },
   "outputs": [
    {
     "name": "stdout",
     "output_type": "stream",
     "text": [
      "1.5.2\n"
     ]
    }
   ],
   "source": [
    "print(pd.__version__)"
   ]
  },
  {
   "attachments": {},
   "cell_type": "markdown",
   "metadata": {},
   "source": [
    "**3.** Print out all the version information of the libraries that are required by the pandas library."
   ]
  },
  {
   "cell_type": "code",
   "execution_count": 3,
   "metadata": {
    "collapsed": true
   },
   "outputs": [
    {
     "name": "stdout",
     "output_type": "stream",
     "text": [
      "\n",
      "INSTALLED VERSIONS\n",
      "------------------\n",
      "commit           : 8dab54d6573f7186ff0c3b6364d5e4dd635ff3e7\n",
      "python           : 3.10.5.final.0\n",
      "python-bits      : 64\n",
      "OS               : Windows\n",
      "OS-release       : 10\n",
      "Version          : 10.0.19045\n",
      "machine          : AMD64\n",
      "processor        : Intel64 Family 6 Model 142 Stepping 9, GenuineIntel\n",
      "byteorder        : little\n",
      "LC_ALL           : None\n",
      "LANG             : None\n",
      "LOCALE           : English_Australia.1252\n",
      "\n",
      "pandas           : 1.5.2\n",
      "numpy            : 1.23.5\n",
      "pytz             : 2022.6\n",
      "dateutil         : 2.8.2\n",
      "setuptools       : 58.1.0\n",
      "pip              : 23.1.2\n",
      "Cython           : None\n",
      "pytest           : None\n",
      "hypothesis       : None\n",
      "sphinx           : None\n",
      "blosc            : None\n",
      "feather          : None\n",
      "xlsxwriter       : None\n",
      "lxml.etree       : None\n",
      "html5lib         : None\n",
      "pymysql          : None\n",
      "psycopg2         : None\n",
      "jinja2           : None\n",
      "IPython          : 8.14.0\n",
      "pandas_datareader: None\n",
      "bs4              : None\n",
      "bottleneck       : None\n",
      "brotli           : None\n",
      "fastparquet      : None\n",
      "fsspec           : None\n",
      "gcsfs            : None\n",
      "matplotlib       : None\n",
      "numba            : None\n",
      "numexpr          : None\n",
      "odfpy            : None\n",
      "openpyxl         : None\n",
      "pandas_gbq       : None\n",
      "pyarrow          : None\n",
      "pyreadstat       : None\n",
      "pyxlsb           : None\n",
      "s3fs             : None\n",
      "scipy            : 1.10.1\n",
      "snappy           : None\n",
      "sqlalchemy       : None\n",
      "tables           : None\n",
      "tabulate         : None\n",
      "xarray           : None\n",
      "xlrd             : None\n",
      "xlwt             : None\n",
      "zstandard        : None\n",
      "tzdata           : None\n"
     ]
    }
   ],
   "source": [
    "pd.show_versions()"
   ]
  },
  {
   "attachments": {},
   "cell_type": "markdown",
   "metadata": {},
   "source": [
    "## DataFrame basics\n",
    "\n",
    "### A few of the fundamental routines for selecting, sorting, adding and aggregating data in DataFrames\n",
    "\n",
    "Difficulty: *easy*\n",
    "\n",
    "Note: remember to import numpy using:\n",
    "```python\n",
    "import numpy as np\n",
    "```\n",
    "\n",
    "Consider the following Python dictionary `data` and Python list `labels`:\n",
    "\n",
    "``` python\n",
    "data = {'animal': ['cat', 'cat', 'snake', 'dog', 'dog', 'cat', 'snake', 'cat', 'dog', 'dog'],\n",
    "        'age': [2.5, 3, 0.5, np.nan, 5, 2, 4.5, np.nan, 7, 3],\n",
    "        'visits': [1, 3, 2, 3, 2, 3, 1, 1, 2, 1],\n",
    "        'priority': ['yes', 'yes', 'no', 'yes', 'no', 'no', 'no', 'yes', 'no', 'no']}\n",
    "\n",
    "labels = ['a', 'b', 'c', 'd', 'e', 'f', 'g', 'h', 'i', 'j']\n",
    "```\n",
    "(This is just some meaningless data I made up with the theme of animals and trips to a vet.)\n",
    "\n",
    "**4.** Create a DataFrame `df` from this dictionary `data` which has the index `labels`."
   ]
  },
  {
   "cell_type": "code",
   "execution_count": 5,
   "metadata": {
    "collapsed": true
   },
   "outputs": [],
   "source": [
    "\n",
    "import numpy as np\n",
    "\n",
    "data = {'animal': ['cat', 'cat', 'snake', 'dog', 'dog', 'cat', 'snake', 'cat', 'dog', 'dog'],\n",
    "        'age': [2.5, 3, 0.5, np.nan, 5, 2, 4.5, np.nan, 7, 3],\n",
    "        'visits': [1, 3, 2, 3, 2, 3, 1, 1, 2, 1],\n",
    "        'priority': ['yes', 'yes', 'no', 'yes', 'no', 'no', 'no', 'yes', 'no', 'no']}\n",
    "\n",
    "labels = ['a', 'b', 'c', 'd', 'e', 'f', 'g', 'h', 'i', 'j']\n",
    "\n",
    "df = pd.DataFrame(data, index=labels)\n"
   ]
  },
  {
   "attachments": {},
   "cell_type": "markdown",
   "metadata": {},
   "source": [
    "**5.** Display a summary of the basic information about this DataFrame and its data."
   ]
  },
  {
   "cell_type": "code",
   "execution_count": 6,
   "metadata": {
    "collapsed": true
   },
   "outputs": [
    {
     "name": "stdout",
     "output_type": "stream",
     "text": [
      "<class 'pandas.core.frame.DataFrame'>\n",
      "Index: 10 entries, a to j\n",
      "Data columns (total 4 columns):\n",
      " #   Column    Non-Null Count  Dtype  \n",
      "---  ------    --------------  -----  \n",
      " 0   animal    10 non-null     object \n",
      " 1   age       8 non-null      float64\n",
      " 2   visits    10 non-null     int64  \n",
      " 3   priority  10 non-null     object \n",
      "dtypes: float64(1), int64(1), object(2)\n",
      "memory usage: 400.0+ bytes\n"
     ]
    }
   ],
   "source": [
    "df.info()"
   ]
  },
  {
   "attachments": {},
   "cell_type": "markdown",
   "metadata": {},
   "source": [
    "**6.** Return the first 3 rows of the DataFrame `df`."
   ]
  },
  {
   "cell_type": "code",
   "execution_count": 7,
   "metadata": {
    "collapsed": true
   },
   "outputs": [
    {
     "data": {
      "text/html": [
       "<div>\n",
       "<style scoped>\n",
       "    .dataframe tbody tr th:only-of-type {\n",
       "        vertical-align: middle;\n",
       "    }\n",
       "\n",
       "    .dataframe tbody tr th {\n",
       "        vertical-align: top;\n",
       "    }\n",
       "\n",
       "    .dataframe thead th {\n",
       "        text-align: right;\n",
       "    }\n",
       "</style>\n",
       "<table border=\"1\" class=\"dataframe\">\n",
       "  <thead>\n",
       "    <tr style=\"text-align: right;\">\n",
       "      <th></th>\n",
       "      <th>animal</th>\n",
       "      <th>age</th>\n",
       "      <th>visits</th>\n",
       "      <th>priority</th>\n",
       "    </tr>\n",
       "  </thead>\n",
       "  <tbody>\n",
       "    <tr>\n",
       "      <th>a</th>\n",
       "      <td>cat</td>\n",
       "      <td>2.5</td>\n",
       "      <td>1</td>\n",
       "      <td>yes</td>\n",
       "    </tr>\n",
       "    <tr>\n",
       "      <th>b</th>\n",
       "      <td>cat</td>\n",
       "      <td>3.0</td>\n",
       "      <td>3</td>\n",
       "      <td>yes</td>\n",
       "    </tr>\n",
       "    <tr>\n",
       "      <th>c</th>\n",
       "      <td>snake</td>\n",
       "      <td>0.5</td>\n",
       "      <td>2</td>\n",
       "      <td>no</td>\n",
       "    </tr>\n",
       "  </tbody>\n",
       "</table>\n",
       "</div>"
      ],
      "text/plain": [
       "  animal  age  visits priority\n",
       "a    cat  2.5       1      yes\n",
       "b    cat  3.0       3      yes\n",
       "c  snake  0.5       2       no"
      ]
     },
     "execution_count": 7,
     "metadata": {},
     "output_type": "execute_result"
    }
   ],
   "source": [
    "df.head(3)"
   ]
  },
  {
   "attachments": {},
   "cell_type": "markdown",
   "metadata": {},
   "source": [
    "**7.** Select just the 'animal' and 'age' columns from the DataFrame `df`."
   ]
  },
  {
   "cell_type": "code",
   "execution_count": 8,
   "metadata": {
    "collapsed": true
   },
   "outputs": [
    {
     "data": {
      "text/html": [
       "<div>\n",
       "<style scoped>\n",
       "    .dataframe tbody tr th:only-of-type {\n",
       "        vertical-align: middle;\n",
       "    }\n",
       "\n",
       "    .dataframe tbody tr th {\n",
       "        vertical-align: top;\n",
       "    }\n",
       "\n",
       "    .dataframe thead th {\n",
       "        text-align: right;\n",
       "    }\n",
       "</style>\n",
       "<table border=\"1\" class=\"dataframe\">\n",
       "  <thead>\n",
       "    <tr style=\"text-align: right;\">\n",
       "      <th></th>\n",
       "      <th>animal</th>\n",
       "      <th>age</th>\n",
       "    </tr>\n",
       "  </thead>\n",
       "  <tbody>\n",
       "    <tr>\n",
       "      <th>a</th>\n",
       "      <td>cat</td>\n",
       "      <td>2.5</td>\n",
       "    </tr>\n",
       "    <tr>\n",
       "      <th>b</th>\n",
       "      <td>cat</td>\n",
       "      <td>3.0</td>\n",
       "    </tr>\n",
       "    <tr>\n",
       "      <th>c</th>\n",
       "      <td>snake</td>\n",
       "      <td>0.5</td>\n",
       "    </tr>\n",
       "    <tr>\n",
       "      <th>d</th>\n",
       "      <td>dog</td>\n",
       "      <td>NaN</td>\n",
       "    </tr>\n",
       "    <tr>\n",
       "      <th>e</th>\n",
       "      <td>dog</td>\n",
       "      <td>5.0</td>\n",
       "    </tr>\n",
       "    <tr>\n",
       "      <th>f</th>\n",
       "      <td>cat</td>\n",
       "      <td>2.0</td>\n",
       "    </tr>\n",
       "    <tr>\n",
       "      <th>g</th>\n",
       "      <td>snake</td>\n",
       "      <td>4.5</td>\n",
       "    </tr>\n",
       "    <tr>\n",
       "      <th>h</th>\n",
       "      <td>cat</td>\n",
       "      <td>NaN</td>\n",
       "    </tr>\n",
       "    <tr>\n",
       "      <th>i</th>\n",
       "      <td>dog</td>\n",
       "      <td>7.0</td>\n",
       "    </tr>\n",
       "    <tr>\n",
       "      <th>j</th>\n",
       "      <td>dog</td>\n",
       "      <td>3.0</td>\n",
       "    </tr>\n",
       "  </tbody>\n",
       "</table>\n",
       "</div>"
      ],
      "text/plain": [
       "  animal  age\n",
       "a    cat  2.5\n",
       "b    cat  3.0\n",
       "c  snake  0.5\n",
       "d    dog  NaN\n",
       "e    dog  5.0\n",
       "f    cat  2.0\n",
       "g  snake  4.5\n",
       "h    cat  NaN\n",
       "i    dog  7.0\n",
       "j    dog  3.0"
      ]
     },
     "execution_count": 8,
     "metadata": {},
     "output_type": "execute_result"
    }
   ],
   "source": [
    "df[['animal', 'age']]\n"
   ]
  },
  {
   "attachments": {},
   "cell_type": "markdown",
   "metadata": {},
   "source": [
    "**8.** Select the data in rows `[3, 4, 8]` *and* in columns `['animal', 'age']`."
   ]
  },
  {
   "cell_type": "code",
   "execution_count": 10,
   "metadata": {
    "collapsed": true
   },
   "outputs": [
    {
     "data": {
      "text/html": [
       "<div>\n",
       "<style scoped>\n",
       "    .dataframe tbody tr th:only-of-type {\n",
       "        vertical-align: middle;\n",
       "    }\n",
       "\n",
       "    .dataframe tbody tr th {\n",
       "        vertical-align: top;\n",
       "    }\n",
       "\n",
       "    .dataframe thead th {\n",
       "        text-align: right;\n",
       "    }\n",
       "</style>\n",
       "<table border=\"1\" class=\"dataframe\">\n",
       "  <thead>\n",
       "    <tr style=\"text-align: right;\">\n",
       "      <th></th>\n",
       "      <th>animal</th>\n",
       "      <th>age</th>\n",
       "    </tr>\n",
       "  </thead>\n",
       "  <tbody>\n",
       "    <tr>\n",
       "      <th>d</th>\n",
       "      <td>dog</td>\n",
       "      <td>NaN</td>\n",
       "    </tr>\n",
       "    <tr>\n",
       "      <th>e</th>\n",
       "      <td>dog</td>\n",
       "      <td>5.0</td>\n",
       "    </tr>\n",
       "    <tr>\n",
       "      <th>i</th>\n",
       "      <td>dog</td>\n",
       "      <td>7.0</td>\n",
       "    </tr>\n",
       "  </tbody>\n",
       "</table>\n",
       "</div>"
      ],
      "text/plain": [
       "  animal  age\n",
       "d    dog  NaN\n",
       "e    dog  5.0\n",
       "i    dog  7.0"
      ]
     },
     "execution_count": 10,
     "metadata": {},
     "output_type": "execute_result"
    }
   ],
   "source": [
    "df.iloc[[3, 4, 8], [0, 1]]\n",
    "\n"
   ]
  },
  {
   "attachments": {},
   "cell_type": "markdown",
   "metadata": {},
   "source": [
    "**9.** Select only the rows where the number of visits is greater than 3."
   ]
  },
  {
   "cell_type": "code",
   "execution_count": 11,
   "metadata": {
    "collapsed": true
   },
   "outputs": [
    {
     "data": {
      "text/html": [
       "<div>\n",
       "<style scoped>\n",
       "    .dataframe tbody tr th:only-of-type {\n",
       "        vertical-align: middle;\n",
       "    }\n",
       "\n",
       "    .dataframe tbody tr th {\n",
       "        vertical-align: top;\n",
       "    }\n",
       "\n",
       "    .dataframe thead th {\n",
       "        text-align: right;\n",
       "    }\n",
       "</style>\n",
       "<table border=\"1\" class=\"dataframe\">\n",
       "  <thead>\n",
       "    <tr style=\"text-align: right;\">\n",
       "      <th></th>\n",
       "      <th>animal</th>\n",
       "      <th>age</th>\n",
       "      <th>visits</th>\n",
       "      <th>priority</th>\n",
       "    </tr>\n",
       "  </thead>\n",
       "  <tbody>\n",
       "  </tbody>\n",
       "</table>\n",
       "</div>"
      ],
      "text/plain": [
       "Empty DataFrame\n",
       "Columns: [animal, age, visits, priority]\n",
       "Index: []"
      ]
     },
     "execution_count": 11,
     "metadata": {},
     "output_type": "execute_result"
    }
   ],
   "source": [
    "df[df['visits'] > 3]\n"
   ]
  },
  {
   "attachments": {},
   "cell_type": "markdown",
   "metadata": {},
   "source": [
    "**10.** Select the rows where the age is missing, i.e. is `NaN`."
   ]
  },
  {
   "cell_type": "code",
   "execution_count": 12,
   "metadata": {
    "collapsed": true
   },
   "outputs": [
    {
     "data": {
      "text/html": [
       "<div>\n",
       "<style scoped>\n",
       "    .dataframe tbody tr th:only-of-type {\n",
       "        vertical-align: middle;\n",
       "    }\n",
       "\n",
       "    .dataframe tbody tr th {\n",
       "        vertical-align: top;\n",
       "    }\n",
       "\n",
       "    .dataframe thead th {\n",
       "        text-align: right;\n",
       "    }\n",
       "</style>\n",
       "<table border=\"1\" class=\"dataframe\">\n",
       "  <thead>\n",
       "    <tr style=\"text-align: right;\">\n",
       "      <th></th>\n",
       "      <th>animal</th>\n",
       "      <th>age</th>\n",
       "      <th>visits</th>\n",
       "      <th>priority</th>\n",
       "    </tr>\n",
       "  </thead>\n",
       "  <tbody>\n",
       "    <tr>\n",
       "      <th>d</th>\n",
       "      <td>dog</td>\n",
       "      <td>NaN</td>\n",
       "      <td>3</td>\n",
       "      <td>yes</td>\n",
       "    </tr>\n",
       "    <tr>\n",
       "      <th>h</th>\n",
       "      <td>cat</td>\n",
       "      <td>NaN</td>\n",
       "      <td>1</td>\n",
       "      <td>yes</td>\n",
       "    </tr>\n",
       "  </tbody>\n",
       "</table>\n",
       "</div>"
      ],
      "text/plain": [
       "  animal  age  visits priority\n",
       "d    dog  NaN       3      yes\n",
       "h    cat  NaN       1      yes"
      ]
     },
     "execution_count": 12,
     "metadata": {},
     "output_type": "execute_result"
    }
   ],
   "source": [
    "df[df['age'].isnull()]\n"
   ]
  },
  {
   "attachments": {},
   "cell_type": "markdown",
   "metadata": {},
   "source": [
    "**11.** Select the rows where the animal is a cat *and* the age is less than 3."
   ]
  },
  {
   "cell_type": "code",
   "execution_count": 13,
   "metadata": {
    "collapsed": true
   },
   "outputs": [
    {
     "data": {
      "text/html": [
       "<div>\n",
       "<style scoped>\n",
       "    .dataframe tbody tr th:only-of-type {\n",
       "        vertical-align: middle;\n",
       "    }\n",
       "\n",
       "    .dataframe tbody tr th {\n",
       "        vertical-align: top;\n",
       "    }\n",
       "\n",
       "    .dataframe thead th {\n",
       "        text-align: right;\n",
       "    }\n",
       "</style>\n",
       "<table border=\"1\" class=\"dataframe\">\n",
       "  <thead>\n",
       "    <tr style=\"text-align: right;\">\n",
       "      <th></th>\n",
       "      <th>animal</th>\n",
       "      <th>age</th>\n",
       "      <th>visits</th>\n",
       "      <th>priority</th>\n",
       "    </tr>\n",
       "  </thead>\n",
       "  <tbody>\n",
       "    <tr>\n",
       "      <th>a</th>\n",
       "      <td>cat</td>\n",
       "      <td>2.5</td>\n",
       "      <td>1</td>\n",
       "      <td>yes</td>\n",
       "    </tr>\n",
       "    <tr>\n",
       "      <th>f</th>\n",
       "      <td>cat</td>\n",
       "      <td>2.0</td>\n",
       "      <td>3</td>\n",
       "      <td>no</td>\n",
       "    </tr>\n",
       "  </tbody>\n",
       "</table>\n",
       "</div>"
      ],
      "text/plain": [
       "  animal  age  visits priority\n",
       "a    cat  2.5       1      yes\n",
       "f    cat  2.0       3       no"
      ]
     },
     "execution_count": 13,
     "metadata": {},
     "output_type": "execute_result"
    }
   ],
   "source": [
    "df[(df['animal'] == 'cat') & (df['age'] < 3)]\n"
   ]
  },
  {
   "attachments": {},
   "cell_type": "markdown",
   "metadata": {},
   "source": [
    "**12.** Select the rows the age is between 2 and 4 (inclusive)."
   ]
  },
  {
   "cell_type": "code",
   "execution_count": 14,
   "metadata": {
    "collapsed": true
   },
   "outputs": [
    {
     "data": {
      "text/html": [
       "<div>\n",
       "<style scoped>\n",
       "    .dataframe tbody tr th:only-of-type {\n",
       "        vertical-align: middle;\n",
       "    }\n",
       "\n",
       "    .dataframe tbody tr th {\n",
       "        vertical-align: top;\n",
       "    }\n",
       "\n",
       "    .dataframe thead th {\n",
       "        text-align: right;\n",
       "    }\n",
       "</style>\n",
       "<table border=\"1\" class=\"dataframe\">\n",
       "  <thead>\n",
       "    <tr style=\"text-align: right;\">\n",
       "      <th></th>\n",
       "      <th>animal</th>\n",
       "      <th>age</th>\n",
       "      <th>visits</th>\n",
       "      <th>priority</th>\n",
       "    </tr>\n",
       "  </thead>\n",
       "  <tbody>\n",
       "    <tr>\n",
       "      <th>a</th>\n",
       "      <td>cat</td>\n",
       "      <td>2.5</td>\n",
       "      <td>1</td>\n",
       "      <td>yes</td>\n",
       "    </tr>\n",
       "    <tr>\n",
       "      <th>b</th>\n",
       "      <td>cat</td>\n",
       "      <td>3.0</td>\n",
       "      <td>3</td>\n",
       "      <td>yes</td>\n",
       "    </tr>\n",
       "    <tr>\n",
       "      <th>f</th>\n",
       "      <td>cat</td>\n",
       "      <td>2.0</td>\n",
       "      <td>3</td>\n",
       "      <td>no</td>\n",
       "    </tr>\n",
       "    <tr>\n",
       "      <th>j</th>\n",
       "      <td>dog</td>\n",
       "      <td>3.0</td>\n",
       "      <td>1</td>\n",
       "      <td>no</td>\n",
       "    </tr>\n",
       "  </tbody>\n",
       "</table>\n",
       "</div>"
      ],
      "text/plain": [
       "  animal  age  visits priority\n",
       "a    cat  2.5       1      yes\n",
       "b    cat  3.0       3      yes\n",
       "f    cat  2.0       3       no\n",
       "j    dog  3.0       1       no"
      ]
     },
     "execution_count": 14,
     "metadata": {},
     "output_type": "execute_result"
    }
   ],
   "source": [
    "df[(df['age'] >= 2) & (df['age'] <= 4)]\n"
   ]
  },
  {
   "attachments": {},
   "cell_type": "markdown",
   "metadata": {},
   "source": [
    "**13.** Change the age in row 'f' to 1.5."
   ]
  },
  {
   "cell_type": "code",
   "execution_count": 15,
   "metadata": {
    "collapsed": true
   },
   "outputs": [],
   "source": [
    "df.loc['f', 'age'] = 1.5\n",
    "\n"
   ]
  },
  {
   "attachments": {},
   "cell_type": "markdown",
   "metadata": {},
   "source": [
    "**14.** Calculate the sum of all visits (the total number of visits)."
   ]
  },
  {
   "cell_type": "code",
   "execution_count": 17,
   "metadata": {
    "collapsed": true
   },
   "outputs": [
    {
     "name": "stdout",
     "output_type": "stream",
     "text": [
      "19\n"
     ]
    }
   ],
   "source": [
    "total_visits = df['visits'].sum()\n",
    "print(total_visits)"
   ]
  },
  {
   "attachments": {},
   "cell_type": "markdown",
   "metadata": {},
   "source": [
    "**15.** Calculate the mean age for each different animal in `df`."
   ]
  },
  {
   "cell_type": "code",
   "execution_count": 19,
   "metadata": {
    "collapsed": true
   },
   "outputs": [
    {
     "name": "stdout",
     "output_type": "stream",
     "text": [
      "animal\n",
      "cat      2.333333\n",
      "dog      5.000000\n",
      "snake    2.500000\n",
      "Name: age, dtype: float64\n"
     ]
    }
   ],
   "source": [
    "mean_age_by_animal = df.groupby('animal')['age'].mean()\n",
    "print(mean_age_by_animal)"
   ]
  },
  {
   "attachments": {},
   "cell_type": "markdown",
   "metadata": {},
   "source": [
    "**16.** Append a new row 'k' to `df` with your choice of values for each column. Then delete that row to return the original DataFrame."
   ]
  },
  {
   "cell_type": "code",
   "execution_count": 20,
   "metadata": {
    "collapsed": true
   },
   "outputs": [
    {
     "name": "stderr",
     "output_type": "stream",
     "text": [
      "C:\\Users\\Priyanka C\\AppData\\Local\\Temp\\ipykernel_15492\\168960713.py:7: FutureWarning: The frame.append method is deprecated and will be removed from pandas in a future version. Use pandas.concat instead.\n",
      "  df = df.append(new_row)\n"
     ]
    }
   ],
   "source": [
    "# Append a new row 'k' to df\n",
    "new_row = pd.DataFrame({'animal': ['hamster'],\n",
    "                        'age': [1.5],\n",
    "                        'visits': [2],\n",
    "                        'priority': ['no']},\n",
    "                       index=['k'])\n",
    "df = df.append(new_row)\n",
    "\n",
    "# Delete the row 'k' from df\n",
    "df = df.drop('k')\n"
   ]
  },
  {
   "attachments": {},
   "cell_type": "markdown",
   "metadata": {},
   "source": [
    "**17.** Count the number of each type of animal in `df`."
   ]
  },
  {
   "cell_type": "code",
   "execution_count": 21,
   "metadata": {
    "collapsed": true
   },
   "outputs": [
    {
     "name": "stdout",
     "output_type": "stream",
     "text": [
      "cat      4\n",
      "dog      4\n",
      "snake    2\n",
      "Name: animal, dtype: int64\n"
     ]
    }
   ],
   "source": [
    "animal_counts = df['animal'].value_counts()\n",
    "print(animal_counts)\n"
   ]
  },
  {
   "attachments": {},
   "cell_type": "markdown",
   "metadata": {},
   "source": [
    "**18.** Sort `df` first by the values in the 'age' in *decending* order, then by the value in the 'visit' column in *ascending* order."
   ]
  },
  {
   "cell_type": "code",
   "execution_count": 22,
   "metadata": {
    "collapsed": true
   },
   "outputs": [
    {
     "name": "stdout",
     "output_type": "stream",
     "text": [
      "  animal  age  visits priority\n",
      "i    dog  7.0       2       no\n",
      "e    dog  5.0       2       no\n",
      "g  snake  4.5       1       no\n",
      "j    dog  3.0       1       no\n",
      "b    cat  3.0       3      yes\n",
      "a    cat  2.5       1      yes\n",
      "f    cat  1.5       3       no\n",
      "c  snake  0.5       2       no\n",
      "h    cat  NaN       1      yes\n",
      "d    dog  NaN       3      yes\n"
     ]
    }
   ],
   "source": [
    "sorted_df = df.sort_values(by=['age', 'visits'], ascending=[False, True])\n",
    "print(sorted_df)\n",
    "\n"
   ]
  },
  {
   "attachments": {},
   "cell_type": "markdown",
   "metadata": {},
   "source": [
    "**19.** The 'priority' column contains the values 'yes' and 'no'. Replace this column with a column of boolean values: 'yes' should be `True` and 'no' should be `False`."
   ]
  },
  {
   "cell_type": "code",
   "execution_count": 23,
   "metadata": {
    "collapsed": true
   },
   "outputs": [
    {
     "name": "stdout",
     "output_type": "stream",
     "text": [
      "  animal  age  visits  priority\n",
      "a    cat  2.5       1      True\n",
      "b    cat  3.0       3      True\n",
      "c  snake  0.5       2     False\n",
      "d    dog  NaN       3      True\n",
      "e    dog  5.0       2     False\n",
      "f    cat  1.5       3     False\n",
      "g  snake  4.5       1     False\n",
      "h    cat  NaN       1      True\n",
      "i    dog  7.0       2     False\n",
      "j    dog  3.0       1     False\n"
     ]
    }
   ],
   "source": [
    "df['priority'] = df['priority'].map({'yes': True, 'no': False})\n",
    "print(df)\n"
   ]
  },
  {
   "attachments": {},
   "cell_type": "markdown",
   "metadata": {},
   "source": [
    "**20.** In the 'animal' column, change the 'snake' entries to 'python'."
   ]
  },
  {
   "cell_type": "code",
   "execution_count": 24,
   "metadata": {
    "collapsed": true
   },
   "outputs": [
    {
     "name": "stdout",
     "output_type": "stream",
     "text": [
      "   animal  age  visits  priority\n",
      "a     cat  2.5       1      True\n",
      "b     cat  3.0       3      True\n",
      "c  python  0.5       2     False\n",
      "d     dog  NaN       3      True\n",
      "e     dog  5.0       2     False\n",
      "f     cat  1.5       3     False\n",
      "g  python  4.5       1     False\n",
      "h     cat  NaN       1      True\n",
      "i     dog  7.0       2     False\n",
      "j     dog  3.0       1     False\n"
     ]
    }
   ],
   "source": [
    "df['animal'] = df['animal'].replace('snake', 'python')\n",
    "print(df)\n"
   ]
  },
  {
   "attachments": {},
   "cell_type": "markdown",
   "metadata": {},
   "source": [
    "**21.** For each animal type and each number of visits, find the mean age. In other words, each row is an animal, each column is a number of visits and the values are the mean ages (hint: use a pivot table)."
   ]
  },
  {
   "cell_type": "code",
   "execution_count": 25,
   "metadata": {
    "collapsed": true
   },
   "outputs": [
    {
     "name": "stdout",
     "output_type": "stream",
     "text": [
      "visits    1    2     3\n",
      "animal                \n",
      "cat     2.5  NaN  2.25\n",
      "dog     3.0  6.0   NaN\n",
      "python  4.5  0.5   NaN\n"
     ]
    }
   ],
   "source": [
    "pivot_table = df.pivot_table(index='animal', columns='visits', values='age', aggfunc='mean')\n",
    "print(pivot_table)\n"
   ]
  },
  {
   "attachments": {},
   "cell_type": "markdown",
   "metadata": {},
   "source": [
    "## DataFrames: beyond the basics\n",
    "\n",
    "### Slightly trickier: you may need to combine two or more methods to get the right answer\n",
    "\n",
    "Difficulty: *medium*\n",
    "\n",
    "The previous section was tour through some basic but essential DataFrame operations. Below are some ways that you might need to cut your data, but for which there is no single \"out of the box\" method."
   ]
  },
  {
   "attachments": {},
   "cell_type": "markdown",
   "metadata": {},
   "source": [
    "**22.** You have a DataFrame `df` with a column 'A' of integers. For example:\n",
    "```python\n",
    "df = pd.DataFrame({'A': [1, 2, 2, 3, 4, 5, 5, 5, 6, 7, 7]})\n",
    "```\n",
    "\n",
    "How do you filter out rows which contain the same integer as the row immediately above?"
   ]
  },
  {
   "cell_type": "code",
   "execution_count": 27,
   "metadata": {
    "collapsed": true
   },
   "outputs": [
    {
     "name": "stdout",
     "output_type": "stream",
     "text": [
      "   A\n",
      "0  1\n",
      "1  2\n",
      "3  3\n",
      "4  4\n",
      "5  5\n",
      "8  6\n",
      "9  7\n"
     ]
    }
   ],
   "source": [
    "\n",
    "\n",
    "df = pd.DataFrame({'A': [1, 2, 2, 3, 4, 5, 5, 5, 6, 7, 7]})\n",
    "\n",
    "filtered_df = df[df['A'] != df['A'].shift(1)]\n",
    "\n",
    "print(filtered_df)\n"
   ]
  },
  {
   "attachments": {},
   "cell_type": "markdown",
   "metadata": {},
   "source": [
    "**23.** Given a DataFrame of numeric values, say\n",
    "```python\n",
    "df = pd.DataFrame(np.random.random(size=(5, 3))) # a 5x3 frame of float values\n",
    "```\n",
    "\n",
    "how do you subtract the row mean from each element in the row?"
   ]
  },
  {
   "cell_type": "code",
   "execution_count": 29,
   "metadata": {
    "collapsed": true
   },
   "outputs": [
    {
     "data": {
      "text/html": [
       "<div>\n",
       "<style scoped>\n",
       "    .dataframe tbody tr th:only-of-type {\n",
       "        vertical-align: middle;\n",
       "    }\n",
       "\n",
       "    .dataframe tbody tr th {\n",
       "        vertical-align: top;\n",
       "    }\n",
       "\n",
       "    .dataframe thead th {\n",
       "        text-align: right;\n",
       "    }\n",
       "</style>\n",
       "<table border=\"1\" class=\"dataframe\">\n",
       "  <thead>\n",
       "    <tr style=\"text-align: right;\">\n",
       "      <th></th>\n",
       "      <th>0</th>\n",
       "      <th>1</th>\n",
       "      <th>2</th>\n",
       "    </tr>\n",
       "  </thead>\n",
       "  <tbody>\n",
       "    <tr>\n",
       "      <th>0</th>\n",
       "      <td>-0.379309</td>\n",
       "      <td>0.486599</td>\n",
       "      <td>-0.107290</td>\n",
       "    </tr>\n",
       "    <tr>\n",
       "      <th>1</th>\n",
       "      <td>0.228455</td>\n",
       "      <td>-0.354929</td>\n",
       "      <td>0.126475</td>\n",
       "    </tr>\n",
       "    <tr>\n",
       "      <th>2</th>\n",
       "      <td>0.341127</td>\n",
       "      <td>-0.199052</td>\n",
       "      <td>-0.142075</td>\n",
       "    </tr>\n",
       "    <tr>\n",
       "      <th>3</th>\n",
       "      <td>0.249003</td>\n",
       "      <td>-0.190427</td>\n",
       "      <td>-0.058576</td>\n",
       "    </tr>\n",
       "    <tr>\n",
       "      <th>4</th>\n",
       "      <td>0.421145</td>\n",
       "      <td>0.013514</td>\n",
       "      <td>-0.434659</td>\n",
       "    </tr>\n",
       "  </tbody>\n",
       "</table>\n",
       "</div>"
      ],
      "text/plain": [
       "          0         1         2\n",
       "0 -0.379309  0.486599 -0.107290\n",
       "1  0.228455 -0.354929  0.126475\n",
       "2  0.341127 -0.199052 -0.142075\n",
       "3  0.249003 -0.190427 -0.058576\n",
       "4  0.421145  0.013514 -0.434659"
      ]
     },
     "execution_count": 29,
     "metadata": {},
     "output_type": "execute_result"
    }
   ],
   "source": [
    "\n",
    "\n",
    "df = pd.DataFrame(np.random.random(size=(5, 3)))  # a 5x3 frame of float values\n",
    "\n",
    "df = df.apply(lambda row: row - row.mean(), axis=1)\n",
    "\n",
    "df.head()"
   ]
  },
  {
   "attachments": {},
   "cell_type": "markdown",
   "metadata": {},
   "source": [
    "**24.** Suppose you have DataFrame with 10 columns of real numbers, for example:\n",
    "\n",
    "```python\n",
    "df = pd.DataFrame(np.random.random(size=(5, 10)), columns=list('abcdefghij'))\n",
    "```\n",
    "Which column of numbers has the smallest sum? (Find that column's label.)"
   ]
  },
  {
   "cell_type": "code",
   "execution_count": 30,
   "metadata": {
    "collapsed": true
   },
   "outputs": [
    {
     "name": "stdout",
     "output_type": "stream",
     "text": [
      "Column with the smallest sum: b\n"
     ]
    }
   ],
   "source": [
    "df = pd.DataFrame(np.random.random(size=(5, 10)), columns=list('abcdefghij'))\n",
    "\n",
    "column_with_smallest_sum = df.sum().idxmin()\n",
    "\n",
    "print(\"Column with the smallest sum:\", column_with_smallest_sum)\n"
   ]
  },
  {
   "attachments": {},
   "cell_type": "markdown",
   "metadata": {},
   "source": [
    "**25.** How do you count how many unique rows a DataFrame has (i.e. ignore all rows that are duplicates)?"
   ]
  },
  {
   "cell_type": "code",
   "execution_count": 31,
   "metadata": {
    "collapsed": true
   },
   "outputs": [
    {
     "name": "stdout",
     "output_type": "stream",
     "text": [
      "Number of unique rows: 5\n"
     ]
    }
   ],
   "source": [
    "# Create a sample DataFrame\n",
    "df = pd.DataFrame({'A': [1, 2, 3, 1, 2],\n",
    "                   'B': ['x', 'y', 'x', 'y', 'z'],\n",
    "                   'C': [10, 20, 30, 40, 50]})\n",
    "\n",
    "# Count the number of unique rows\n",
    "unique_row_count = len(df.drop_duplicates())\n",
    "\n",
    "print(\"Number of unique rows:\", unique_row_count)\n"
   ]
  },
  {
   "attachments": {},
   "cell_type": "markdown",
   "metadata": {},
   "source": [
    "The next three puzzles are slightly harder...\n",
    "\n",
    "**26.** You have a DataFrame that consists of 10 columns of floating--point numbers. Suppose that exactly 5 entries in each row are NaN values. For each row of the DataFrame, find the *column* which contains the *third* NaN value.\n",
    "\n",
    "(You should return a Series of column labels.)"
   ]
  },
  {
   "cell_type": "code",
   "execution_count": 33,
   "metadata": {
    "collapsed": true
   },
   "outputs": [
    {
     "name": "stdout",
     "output_type": "stream",
     "text": [
      "Column labels with third NaN value:\n",
      "0    Not Found\n",
      "1    Not Found\n",
      "2    Not Found\n",
      "3    Not Found\n",
      "4    Not Found\n",
      "dtype: object\n"
     ]
    }
   ],
   "source": [
    "# Create a sample DataFrame with 10 columns and NaN values\n",
    "df = pd.DataFrame(np.random.randn(5, 10))\n",
    "df.iloc[0, 2] = np.nan\n",
    "df.iloc[1, 5] = np.nan\n",
    "df.iloc[2, 8] = np.nan\n",
    "df.iloc[3, 3] = np.nan\n",
    "df.iloc[4, 6] = np.nan\n",
    "\n",
    "# Define a lambda function to find the column index of the third NaN value\n",
    "find_third_nan = lambda row: row[row.isna()].index[2] if row.isna().sum() >= 3 else 'Not Found'\n",
    "\n",
    "# Apply the lambda function to each row of the DataFrame\n",
    "third_nan_column = df.apply(find_third_nan, axis=1)\n",
    "\n",
    "print(\"Column labels with third NaN value:\")\n",
    "print(third_nan_column)\n"
   ]
  },
  {
   "attachments": {},
   "cell_type": "markdown",
   "metadata": {},
   "source": [
    "**27.** A DataFrame has a column of groups 'grps' and and column of numbers 'vals'. For example: \n",
    "\n",
    "```python\n",
    "df = pd.DataFrame({'grps': list('aaabbcaabcccbbc'), \n",
    "                   'vals': [12,345,3,1,45,14,4,52,54,23,235,21,57,3,87]})\n",
    "```\n",
    "For each *group*, find the sum of the three greatest values."
   ]
  },
  {
   "cell_type": "code",
   "execution_count": 34,
   "metadata": {
    "collapsed": true
   },
   "outputs": [
    {
     "name": "stdout",
     "output_type": "stream",
     "text": [
      "Sum of the three greatest values for each group:\n",
      "grps\n",
      "a    409\n",
      "b    156\n",
      "c    345\n",
      "Name: vals, dtype: int64\n"
     ]
    },
    {
     "name": "stderr",
     "output_type": "stream",
     "text": [
      "C:\\Users\\Priyanka C\\AppData\\Local\\Temp\\ipykernel_15492\\3127499687.py:6: FutureWarning: Using the level keyword in DataFrame and Series aggregations is deprecated and will be removed in a future version. Use groupby instead. df.sum(level=1) should use df.groupby(level=1).sum().\n",
      "  sum_of_top_three = df.groupby('grps')['vals'].nlargest(3).sum(level=0)\n"
     ]
    }
   ],
   "source": [
    "# Create the DataFrame\n",
    "df = pd.DataFrame({'grps': list('aaabbcaabcccbbc'),\n",
    "                   'vals': [12, 345, 3, 1, 45, 14, 4, 52, 54, 23, 235, 21, 57, 3, 87]})\n",
    "\n",
    "# Group the DataFrame by 'grps' column and calculate the sum of the three largest values for each group\n",
    "sum_of_top_three = df.groupby('grps')['vals'].nlargest(3).sum(level=0)\n",
    "\n",
    "print(\"Sum of the three greatest values for each group:\")\n",
    "print(sum_of_top_three)\n"
   ]
  },
  {
   "attachments": {},
   "cell_type": "markdown",
   "metadata": {},
   "source": [
    "**28.** A DataFrame has two integer columns 'A' and 'B'. The values in 'A' are between 1 and 100 (inclusive). For each group of 10 consecutive integers in 'A' (i.e. `(0, 10]`, `(10, 20]`, ...), calculate the sum of the corresponding values in column 'B'."
   ]
  },
  {
   "cell_type": "code",
   "execution_count": 35,
   "metadata": {
    "collapsed": true
   },
   "outputs": [
    {
     "name": "stdout",
     "output_type": "stream",
     "text": [
      "Sum of values in column 'B' for each group of 10 consecutive integers in column 'A':\n",
      "A\n",
      "[0, 10)      483\n",
      "[10, 20)     492\n",
      "[20, 30)     571\n",
      "[30, 40)     849\n",
      "[40, 50)     269\n",
      "[50, 60)     445\n",
      "[60, 70)     467\n",
      "[70, 80)     230\n",
      "[80, 90)     439\n",
      "[90, 100)    648\n",
      "Name: B, dtype: int32\n"
     ]
    }
   ],
   "source": [
    "# Create the DataFrame\n",
    "df = pd.DataFrame({'A': np.random.randint(1, 101, size=100),\n",
    "                   'B': np.random.randint(1, 101, size=100)})\n",
    "\n",
    "# Define the bins for grouping 'A' column\n",
    "bins = np.arange(0, 101, 10)\n",
    "\n",
    "# Group the DataFrame by the bins and calculate the sum of 'B' column for each group\n",
    "grouped_sum = df.groupby(pd.cut(df['A'], bins=bins, right=False))['B'].sum()\n",
    "\n",
    "print(\"Sum of values in column 'B' for each group of 10 consecutive integers in column 'A':\")\n",
    "print(grouped_sum)\n"
   ]
  },
  {
   "attachments": {},
   "cell_type": "markdown",
   "metadata": {},
   "source": [
    "## DataFrames: harder problems \n",
    "\n",
    "### These might require a bit of thinking outside the box...\n",
    "\n",
    "...but all are solvable using just the usual pandas/NumPy methods (and so avoid using explicit `for` loops).\n",
    "\n",
    "Difficulty: *hard*"
   ]
  },
  {
   "attachments": {},
   "cell_type": "markdown",
   "metadata": {},
   "source": [
    "**29.** Consider a DataFrame `df` where there is an integer column 'X':\n",
    "```python\n",
    "df = pd.DataFrame({'X': [7, 2, 0, 3, 4, 2, 5, 0, 3, 4]})\n",
    "```\n",
    "For each value, count the difference back to the previous zero (or the start of the Series, whichever is closer). These values should therefore be `[1, 2, 0, 1, 2, 3, 4, 0, 1, 2]`. Make this a new column 'Y'."
   ]
  },
  {
   "cell_type": "code",
   "execution_count": 36,
   "metadata": {
    "collapsed": true
   },
   "outputs": [
    {
     "name": "stdout",
     "output_type": "stream",
     "text": [
      "   X  Y\n",
      "0  7  0\n",
      "1  2  0\n",
      "2  0  0\n",
      "3  3  0\n",
      "4  4  0\n",
      "5  2  0\n",
      "6  5  0\n",
      "7  0  0\n",
      "8  3  0\n",
      "9  4  0\n"
     ]
    }
   ],
   "source": [
    "# Create the DataFrame\n",
    "df = pd.DataFrame({'X': [7, 2, 0, 3, 4, 2, 5, 0, 3, 4]})\n",
    "\n",
    "# Find the indices where 'X' is zero\n",
    "zero_indices = df['X'].eq(0)\n",
    "\n",
    "# Calculate the cumulative count of non-zero values within each group of consecutive zeros\n",
    "cumulative_count = zero_indices.groupby((~zero_indices).cumsum()).cumcount()\n",
    "\n",
    "# Calculate the difference between the current index and the previous zero within each group\n",
    "df['Y'] = df.groupby((~zero_indices).cumsum()).cumcount() - cumulative_count\n",
    "\n",
    "print(df)\n"
   ]
  },
  {
   "attachments": {},
   "cell_type": "markdown",
   "metadata": {},
   "source": [
    "Here's an alternative approach based on a [cookbook recipe](http://pandas.pydata.org/pandas-docs/stable/cookbook.html#grouping):"
   ]
  },
  {
   "cell_type": "code",
   "execution_count": null,
   "metadata": {
    "collapsed": true
   },
   "outputs": [],
   "source": []
  },
  {
   "attachments": {},
   "cell_type": "markdown",
   "metadata": {},
   "source": [
    "**30.** Consider a DataFrame containing rows and columns of purely numerical data. Create a list of the row-column index locations of the 3 largest values."
   ]
  },
  {
   "cell_type": "code",
   "execution_count": 37,
   "metadata": {
    "collapsed": true
   },
   "outputs": [
    {
     "name": "stdout",
     "output_type": "stream",
     "text": [
      "MultiIndex([(1, 0),\n",
      "            (0, 1),\n",
      "            (4, 0)],\n",
      "           )\n"
     ]
    }
   ],
   "source": [
    "\n",
    "# Create a DataFrame with numerical data\n",
    "df = pd.DataFrame(np.random.randint(0, 100, size=(5, 5)))\n",
    "\n",
    "# Stack the DataFrame into a Series\n",
    "stacked_series = df.stack()\n",
    "\n",
    "# Sort the Series in descending order\n",
    "sorted_series = stacked_series.sort_values(ascending=False)\n",
    "\n",
    "# Retrieve the index locations of the top 3 values\n",
    "top_3_indices = sorted_series.index[:3]\n",
    "\n",
    "print(top_3_indices)\n"
   ]
  },
  {
   "attachments": {},
   "cell_type": "markdown",
   "metadata": {},
   "source": [
    "**31.** Given a DataFrame with a column of group IDs, 'grps', and a column of corresponding integer values, 'vals', replace any negative values in 'vals' with the group mean."
   ]
  },
  {
   "cell_type": "code",
   "execution_count": 38,
   "metadata": {
    "collapsed": true
   },
   "outputs": [
    {
     "name": "stdout",
     "output_type": "stream",
     "text": [
      "  grps      vals\n",
      "0    A  1.000000\n",
      "1    B  0.000000\n",
      "2    A  3.000000\n",
      "3    B  0.000000\n",
      "4    A -0.333333\n",
      "5    B  6.000000\n"
     ]
    }
   ],
   "source": [
    "# Create a DataFrame with group IDs and corresponding values\n",
    "df = pd.DataFrame({'grps': ['A', 'B', 'A', 'B', 'A', 'B'],\n",
    "                   'vals': [1, -2, 3, -4, -5, 6]})\n",
    "\n",
    "# Calculate the group mean\n",
    "group_means = df.groupby('grps')['vals'].transform('mean')\n",
    "\n",
    "# Replace negative values with group mean\n",
    "df.loc[df['vals'] < 0, 'vals'] = group_means[df['vals'] < 0]\n",
    "\n",
    "print(df)\n"
   ]
  },
  {
   "attachments": {},
   "cell_type": "markdown",
   "metadata": {},
   "source": [
    "**32.** Implement a rolling mean over groups with window size 3, which ignores NaN value. For example consider the following DataFrame:\n",
    "\n",
    "```python\n",
    ">>> df = pd.DataFrame({'group': list('aabbabbbabab'),\n",
    "                       'value': [1, 2, 3, np.nan, 2, 3, \n",
    "                                 np.nan, 1, 7, 3, np.nan, 8]})\n",
    ">>> df\n",
    "   group  value\n",
    "0      a    1.0\n",
    "1      a    2.0\n",
    "2      b    3.0\n",
    "3      b    NaN\n",
    "4      a    2.0\n",
    "5      b    3.0\n",
    "6      b    NaN\n",
    "7      b    1.0\n",
    "8      a    7.0\n",
    "9      b    3.0\n",
    "10     a    NaN\n",
    "11     b    8.0\n",
    "```\n",
    "The goal is to compute the Series:\n",
    "\n",
    "```\n",
    "0     1.000000\n",
    "1     1.500000\n",
    "2     3.000000\n",
    "3     3.000000\n",
    "4     1.666667\n",
    "5     3.000000\n",
    "6     3.000000\n",
    "7     2.000000\n",
    "8     3.666667\n",
    "9     2.000000\n",
    "10    4.500000\n",
    "11    4.000000\n",
    "```\n",
    "E.g. the first window of size three for group 'b' has values 3.0, NaN and 3.0 and occurs at row index 5. Instead of being NaN the value in the new column at this row index should be 3.0 (just the two non-NaN values are used to compute the mean (3+3)/2)"
   ]
  },
  {
   "cell_type": "code",
   "execution_count": 39,
   "metadata": {
    "collapsed": true
   },
   "outputs": [
    {
     "name": "stdout",
     "output_type": "stream",
     "text": [
      "0     1.000000\n",
      "1     1.500000\n",
      "2     3.000000\n",
      "3     3.000000\n",
      "4     1.666667\n",
      "5     3.000000\n",
      "6     3.000000\n",
      "7     2.000000\n",
      "8     3.666667\n",
      "9     2.000000\n",
      "10    4.500000\n",
      "11    4.000000\n",
      "Name: rolling_mean, dtype: float64\n"
     ]
    }
   ],
   "source": [
    "\n",
    "# Create the DataFrame\n",
    "df = pd.DataFrame({'group': list('aabbabbbabab'),\n",
    "                   'value': [1, 2, 3, np.nan, 2, 3, np.nan, 1, 7, 3, np.nan, 8]})\n",
    "\n",
    "# Group the data by 'group' column\n",
    "grouped = df.groupby('group')\n",
    "\n",
    "# Apply rolling mean with window size 3, ignoring NaN values\n",
    "df['rolling_mean'] = grouped['value'].rolling(3, min_periods=1).mean().reset_index(level=0, drop=True)\n",
    "\n",
    "print(df['rolling_mean'])\n"
   ]
  },
  {
   "attachments": {},
   "cell_type": "markdown",
   "metadata": {},
   "source": [
    "## Series and DatetimeIndex\n",
    "\n",
    "### Exercises for creating and manipulating Series with datetime data\n",
    "\n",
    "Difficulty: *easy/medium*\n",
    "\n",
    "pandas is fantastic for working with dates and times. These puzzles explore some of this functionality.\n"
   ]
  },
  {
   "attachments": {},
   "cell_type": "markdown",
   "metadata": {},
   "source": [
    "**33.** Create a DatetimeIndex that contains each business day of 2015 and use it to index a Series of random numbers. Let's call this Series `s`."
   ]
  },
  {
   "cell_type": "code",
   "execution_count": 40,
   "metadata": {
    "collapsed": true
   },
   "outputs": [
    {
     "name": "stdout",
     "output_type": "stream",
     "text": [
      "2015-01-01   -0.552816\n",
      "2015-01-02    1.428814\n",
      "2015-01-05   -0.113942\n",
      "2015-01-06    2.119231\n",
      "2015-01-07    1.119639\n",
      "                ...   \n",
      "2015-12-25    0.631123\n",
      "2015-12-28   -1.963080\n",
      "2015-12-29   -0.954890\n",
      "2015-12-30   -1.093127\n",
      "2015-12-31   -1.396205\n",
      "Freq: B, Length: 261, dtype: float64\n"
     ]
    }
   ],
   "source": [
    "# Create the DatetimeIndex with business days of 2015\n",
    "idx = pd.date_range(start='2015-01-01', end='2015-12-31', freq='B')\n",
    "\n",
    "# Create a Series of random numbers indexed by the DatetimeIndex\n",
    "s = pd.Series(np.random.randn(len(idx)), index=idx)\n",
    "\n",
    "print(s)\n"
   ]
  },
  {
   "attachments": {},
   "cell_type": "markdown",
   "metadata": {},
   "source": [
    "**34.** Find the sum of the values in `s` for every Wednesday."
   ]
  },
  {
   "cell_type": "code",
   "execution_count": 42,
   "metadata": {
    "collapsed": true
   },
   "outputs": [
    {
     "name": "stdout",
     "output_type": "stream",
     "text": [
      "5.4428391734659645\n"
     ]
    }
   ],
   "source": [
    "wednesday_sum = s[s.index.strftime('%a') == 'Wed'].sum()\n",
    "print(wednesday_sum)\n"
   ]
  },
  {
   "attachments": {},
   "cell_type": "markdown",
   "metadata": {},
   "source": [
    "**35.** For each calendar month in `s`, find the mean of values."
   ]
  },
  {
   "cell_type": "code",
   "execution_count": 43,
   "metadata": {
    "collapsed": true
   },
   "outputs": [
    {
     "name": "stdout",
     "output_type": "stream",
     "text": [
      "2015-01-31   -0.016839\n",
      "2015-02-28    0.251150\n",
      "2015-03-31   -0.185987\n",
      "2015-04-30    0.136497\n",
      "2015-05-31   -0.076536\n",
      "2015-06-30   -0.134033\n",
      "2015-07-31    0.362076\n",
      "2015-08-31   -0.309461\n",
      "2015-09-30   -0.029747\n",
      "2015-10-31    0.083126\n",
      "2015-11-30   -0.032905\n",
      "2015-12-31   -0.235298\n",
      "Freq: M, dtype: float64\n"
     ]
    }
   ],
   "source": [
    "monthly_mean = s.resample('M').mean()\n",
    "print(monthly_mean)\n",
    "\n"
   ]
  },
  {
   "attachments": {},
   "cell_type": "markdown",
   "metadata": {},
   "source": [
    "**36.** For each group of four consecutive calendar months in `s`, find the date on which the highest value occurred."
   ]
  },
  {
   "cell_type": "code",
   "execution_count": 45,
   "metadata": {
    "collapsed": true
   },
   "outputs": [
    {
     "name": "stdout",
     "output_type": "stream",
     "text": [
      "2015-01-31   2015-01-06\n",
      "2015-05-31   2015-04-07\n",
      "2015-09-30   2015-09-30\n",
      "2016-01-31   2015-10-20\n",
      "Freq: 4M, dtype: datetime64[ns]\n"
     ]
    }
   ],
   "source": [
    "four_month_max_date = s.groupby(pd.Grouper(freq='4M')).idxmax()\n",
    "print(four_month_max_date)\n"
   ]
  },
  {
   "attachments": {},
   "cell_type": "markdown",
   "metadata": {},
   "source": [
    "**37.** Create a DateTimeIndex consisting of the third Thursday in each month for the years 2015 and 2016."
   ]
  },
  {
   "cell_type": "code",
   "execution_count": 46,
   "metadata": {
    "collapsed": true
   },
   "outputs": [
    {
     "name": "stdout",
     "output_type": "stream",
     "text": [
      "DatetimeIndex(['2015-01-15', '2015-02-19', '2015-03-19', '2015-04-16',\n",
      "               '2015-05-21', '2015-06-18', '2015-07-16', '2015-08-20',\n",
      "               '2015-09-17', '2015-10-15', '2015-11-19', '2015-12-17',\n",
      "               '2016-01-21', '2016-02-18', '2016-03-17', '2016-04-21',\n",
      "               '2016-05-19', '2016-06-16', '2016-07-21', '2016-08-18',\n",
      "               '2016-09-15', '2016-10-20', '2016-11-17', '2016-12-15'],\n",
      "              dtype='datetime64[ns]', freq='WOM-3THU')\n"
     ]
    }
   ],
   "source": [
    "date_index = pd.date_range(start='2015-01-01', end='2016-12-31', freq='WOM-3THU')\n",
    "print(date_index)\n"
   ]
  },
  {
   "attachments": {},
   "cell_type": "markdown",
   "metadata": {},
   "source": [
    "## Cleaning Data\n",
    "\n",
    "### Making a DataFrame easier to work with\n",
    "\n",
    "Difficulty: *easy/medium*\n",
    "\n",
    "It happens all the time: someone gives you data containing malformed strings, Python, lists and missing data. How do you tidy it up so you can get on with the analysis?\n",
    "\n",
    "Take this monstrosity as the DataFrame to use in the following puzzles:\n",
    "\n",
    "```python\n",
    "df = pd.DataFrame({'From_To': ['LoNDon_paris', 'MAdrid_miLAN', 'londON_StockhOlm', \n",
    "                               'Budapest_PaRis', 'Brussels_londOn'],\n",
    "              'FlightNumber': [10045, np.nan, 10065, np.nan, 10085],\n",
    "              'RecentDelays': [[23, 47], [], [24, 43, 87], [13], [67, 32]],\n",
    "                   'Airline': ['KLM(!)', '<Air France> (12)', '(British Airways. )', \n",
    "                               '12. Air France', '\"Swiss Air\"']})\n",
    "```\n",
    "(It's some flight data I made up; it's not meant to be accurate in any way.)\n"
   ]
  },
  {
   "attachments": {},
   "cell_type": "markdown",
   "metadata": {},
   "source": [
    "**38.** Some values in the the FlightNumber column are missing. These numbers are meant to increase by 10 with each row so 10055 and 10075 need to be put in place. Fill in these missing numbers and make the column an integer column (instead of a float column)."
   ]
  },
  {
   "cell_type": "code",
   "execution_count": 49,
   "metadata": {
    "collapsed": true
   },
   "outputs": [],
   "source": [
    "df = pd.DataFrame({'From_To': ['LoNDon_paris', 'MAdrid_miLAN', 'londON_StockhOlm', \n",
    "                               'Budapest_PaRis', 'Brussels_londOn'],\n",
    "              'FlightNumber': [10045, np.nan, 10065, np.nan, 10085],\n",
    "              'RecentDelays': [[23, 47], [], [24, 43, 87], [13], [67, 32]],\n",
    "                   'Airline': ['KLM(!)', '<Air France> (12)', '(British Airways. )', \n",
    "                               '12. Air France', '\"Swiss Air\"']})\n",
    "df['FlightNumber'] = df['FlightNumber'].interpolate().astype(int)\n"
   ]
  },
  {
   "attachments": {},
   "cell_type": "markdown",
   "metadata": {},
   "source": [
    "**39.** The From\\_To column would be better as two separate columns! Split each string on the underscore delimiter `_` to give a new temporary DataFrame with the correct values. Assign the correct column names to this temporary DataFrame. "
   ]
  },
  {
   "cell_type": "code",
   "execution_count": 50,
   "metadata": {
    "collapsed": true
   },
   "outputs": [],
   "source": [
    "temp_df = df['From_To'].str.split('_', expand=True)\n",
    "temp_df.columns = ['From', 'To']\n"
   ]
  },
  {
   "attachments": {},
   "cell_type": "markdown",
   "metadata": {},
   "source": [
    "**40.** Notice how the capitalisation of the city names is all mixed up in this temporary DataFrame. Standardise the strings so that only the first letter is uppercase (e.g. \"londON\" should become \"London\".)"
   ]
  },
  {
   "cell_type": "code",
   "execution_count": 51,
   "metadata": {
    "collapsed": true
   },
   "outputs": [],
   "source": [
    "temp_df['From'] = temp_df['From'].str.capitalize()\n",
    "temp_df['To'] = temp_df['To'].str.capitalize()\n"
   ]
  },
  {
   "attachments": {},
   "cell_type": "markdown",
   "metadata": {},
   "source": [
    "**41.** Delete the From_To column from `df` and attach the temporary DataFrame from the previous questions."
   ]
  },
  {
   "cell_type": "code",
   "execution_count": 52,
   "metadata": {
    "collapsed": true
   },
   "outputs": [],
   "source": [
    "df = df.drop('From_To', axis=1).join(temp_df)\n"
   ]
  },
  {
   "attachments": {},
   "cell_type": "markdown",
   "metadata": {},
   "source": [
    "**42**. In the Airline column, you can see some extra puctuation and symbols have appeared around the airline names. Pull out just the airline name. E.g. `'(British Airways. )'` should become `'British Airways'`."
   ]
  },
  {
   "cell_type": "code",
   "execution_count": 63,
   "metadata": {
    "collapsed": true
   },
   "outputs": [
    {
     "name": "stderr",
     "output_type": "stream",
     "text": [
      "C:\\Users\\Priyanka C\\AppData\\Local\\Temp\\ipykernel_15492\\890729450.py:1: FutureWarning: The default value of regex will change from True to False in a future version.\n",
      "  df['Airline'] = df['Airline'].str.replace(r'[^a-zA-Z\\s]', '').str.strip()\n"
     ]
    }
   ],
   "source": [
    "df['Airline'] = df['Airline'].str.replace(r'[^a-zA-Z\\s]', '').str.strip()\n"
   ]
  },
  {
   "attachments": {},
   "cell_type": "markdown",
   "metadata": {},
   "source": [
    "**43**. In the RecentDelays column, the values have been entered into the DataFrame as a list. We would like each first value in its own column, each second value in its own column, and so on. If there isn't an Nth value, the value should be NaN.\n",
    "\n",
    "Expand the Series of lists into a DataFrame named `delays`, rename the columns `delay_1`, `delay_2`, etc. and replace the unwanted RecentDelays column in `df` with `delays`."
   ]
  },
  {
   "cell_type": "code",
   "execution_count": 64,
   "metadata": {
    "collapsed": true
   },
   "outputs": [
    {
     "ename": "KeyError",
     "evalue": "'RecentDelays'",
     "output_type": "error",
     "traceback": [
      "\u001b[1;31m---------------------------------------------------------------------------\u001b[0m",
      "\u001b[1;31mKeyError\u001b[0m                                  Traceback (most recent call last)",
      "File \u001b[1;32mc:\\Users\\Priyanka C\\lib\\site-packages\\pandas\\core\\indexes\\base.py:3803\u001b[0m, in \u001b[0;36mIndex.get_loc\u001b[1;34m(self, key, method, tolerance)\u001b[0m\n\u001b[0;32m   3802\u001b[0m \u001b[39mtry\u001b[39;00m:\n\u001b[1;32m-> 3803\u001b[0m     \u001b[39mreturn\u001b[39;00m \u001b[39mself\u001b[39;49m\u001b[39m.\u001b[39;49m_engine\u001b[39m.\u001b[39;49mget_loc(casted_key)\n\u001b[0;32m   3804\u001b[0m \u001b[39mexcept\u001b[39;00m \u001b[39mKeyError\u001b[39;00m \u001b[39mas\u001b[39;00m err:\n",
      "File \u001b[1;32mc:\\Users\\Priyanka C\\lib\\site-packages\\pandas\\_libs\\index.pyx:138\u001b[0m, in \u001b[0;36mpandas._libs.index.IndexEngine.get_loc\u001b[1;34m()\u001b[0m\n",
      "File \u001b[1;32mc:\\Users\\Priyanka C\\lib\\site-packages\\pandas\\_libs\\index.pyx:165\u001b[0m, in \u001b[0;36mpandas._libs.index.IndexEngine.get_loc\u001b[1;34m()\u001b[0m\n",
      "File \u001b[1;32mpandas\\_libs\\hashtable_class_helper.pxi:5745\u001b[0m, in \u001b[0;36mpandas._libs.hashtable.PyObjectHashTable.get_item\u001b[1;34m()\u001b[0m\n",
      "File \u001b[1;32mpandas\\_libs\\hashtable_class_helper.pxi:5753\u001b[0m, in \u001b[0;36mpandas._libs.hashtable.PyObjectHashTable.get_item\u001b[1;34m()\u001b[0m\n",
      "\u001b[1;31mKeyError\u001b[0m: 'RecentDelays'",
      "\nThe above exception was the direct cause of the following exception:\n",
      "\u001b[1;31mKeyError\u001b[0m                                  Traceback (most recent call last)",
      "Cell \u001b[1;32mIn[64], line 1\u001b[0m\n\u001b[1;32m----> 1\u001b[0m delays \u001b[39m=\u001b[39m df[\u001b[39m'\u001b[39;49m\u001b[39mRecentDelays\u001b[39;49m\u001b[39m'\u001b[39;49m]\u001b[39m.\u001b[39mapply(pd\u001b[39m.\u001b[39mSeries)\n\u001b[0;32m      2\u001b[0m delays\u001b[39m.\u001b[39mcolumns \u001b[39m=\u001b[39m [\u001b[39m'\u001b[39m\u001b[39mdelay_\u001b[39m\u001b[39m{}\u001b[39;00m\u001b[39m'\u001b[39m\u001b[39m.\u001b[39mformat(i\u001b[39m+\u001b[39m\u001b[39m1\u001b[39m) \u001b[39mfor\u001b[39;00m i \u001b[39min\u001b[39;00m \u001b[39mrange\u001b[39m(delays\u001b[39m.\u001b[39mshape[\u001b[39m1\u001b[39m])]\n\u001b[0;32m      3\u001b[0m df \u001b[39m=\u001b[39m pd\u001b[39m.\u001b[39mconcat([df\u001b[39m.\u001b[39mdrop(\u001b[39m'\u001b[39m\u001b[39mRecentDelays\u001b[39m\u001b[39m'\u001b[39m, axis\u001b[39m=\u001b[39m\u001b[39m1\u001b[39m), delays], axis\u001b[39m=\u001b[39m\u001b[39m1\u001b[39m)\n",
      "File \u001b[1;32mc:\\Users\\Priyanka C\\lib\\site-packages\\pandas\\core\\frame.py:3805\u001b[0m, in \u001b[0;36mDataFrame.__getitem__\u001b[1;34m(self, key)\u001b[0m\n\u001b[0;32m   3803\u001b[0m \u001b[39mif\u001b[39;00m \u001b[39mself\u001b[39m\u001b[39m.\u001b[39mcolumns\u001b[39m.\u001b[39mnlevels \u001b[39m>\u001b[39m \u001b[39m1\u001b[39m:\n\u001b[0;32m   3804\u001b[0m     \u001b[39mreturn\u001b[39;00m \u001b[39mself\u001b[39m\u001b[39m.\u001b[39m_getitem_multilevel(key)\n\u001b[1;32m-> 3805\u001b[0m indexer \u001b[39m=\u001b[39m \u001b[39mself\u001b[39;49m\u001b[39m.\u001b[39;49mcolumns\u001b[39m.\u001b[39;49mget_loc(key)\n\u001b[0;32m   3806\u001b[0m \u001b[39mif\u001b[39;00m is_integer(indexer):\n\u001b[0;32m   3807\u001b[0m     indexer \u001b[39m=\u001b[39m [indexer]\n",
      "File \u001b[1;32mc:\\Users\\Priyanka C\\lib\\site-packages\\pandas\\core\\indexes\\base.py:3805\u001b[0m, in \u001b[0;36mIndex.get_loc\u001b[1;34m(self, key, method, tolerance)\u001b[0m\n\u001b[0;32m   3803\u001b[0m     \u001b[39mreturn\u001b[39;00m \u001b[39mself\u001b[39m\u001b[39m.\u001b[39m_engine\u001b[39m.\u001b[39mget_loc(casted_key)\n\u001b[0;32m   3804\u001b[0m \u001b[39mexcept\u001b[39;00m \u001b[39mKeyError\u001b[39;00m \u001b[39mas\u001b[39;00m err:\n\u001b[1;32m-> 3805\u001b[0m     \u001b[39mraise\u001b[39;00m \u001b[39mKeyError\u001b[39;00m(key) \u001b[39mfrom\u001b[39;00m \u001b[39merr\u001b[39;00m\n\u001b[0;32m   3806\u001b[0m \u001b[39mexcept\u001b[39;00m \u001b[39mTypeError\u001b[39;00m:\n\u001b[0;32m   3807\u001b[0m     \u001b[39m# If we have a listlike key, _check_indexing_error will raise\u001b[39;00m\n\u001b[0;32m   3808\u001b[0m     \u001b[39m#  InvalidIndexError. Otherwise we fall through and re-raise\u001b[39;00m\n\u001b[0;32m   3809\u001b[0m     \u001b[39m#  the TypeError.\u001b[39;00m\n\u001b[0;32m   3810\u001b[0m     \u001b[39mself\u001b[39m\u001b[39m.\u001b[39m_check_indexing_error(key)\n",
      "\u001b[1;31mKeyError\u001b[0m: 'RecentDelays'"
     ]
    }
   ],
   "source": [
    "delays = df['RecentDelays'].apply(pd.Series)\n",
    "delays.columns = ['delay_{}'.format(i+1) for i in range(delays.shape[1])]\n",
    "df = pd.concat([df.drop('RecentDelays', axis=1), delays], axis=1)\n"
   ]
  },
  {
   "attachments": {},
   "cell_type": "markdown",
   "metadata": {},
   "source": [
    "The DataFrame should look much better now."
   ]
  },
  {
   "attachments": {},
   "cell_type": "markdown",
   "metadata": {
    "collapsed": true
   },
   "source": [
    "## Using MultiIndexes\n",
    "\n",
    "### Go beyond flat DataFrames with additional index levels\n",
    "\n",
    "Difficulty: *medium*\n",
    "\n",
    "Previous exercises have seen us analysing data from DataFrames equipped with a single index level. However, pandas also gives you the possibilty of indexing your data using *multiple* levels. This is very much like adding new dimensions to a Series or a DataFrame. For example, a Series is 1D, but by using a MultiIndex with 2 levels we gain of much the same functionality as a 2D DataFrame.\n",
    "\n",
    "The set of puzzles below explores how you might use multiple index levels to enhance data analysis.\n",
    "\n",
    "To warm up, we'll look make a Series with two index levels. "
   ]
  },
  {
   "attachments": {},
   "cell_type": "markdown",
   "metadata": {},
   "source": [
    "**44**. Given the lists `letters = ['A', 'B', 'C']` and `numbers = list(range(10))`, construct a MultiIndex object from the product of the two lists. Use it to index a Series of random numbers. Call this Series `s`."
   ]
  },
  {
   "cell_type": "code",
   "execution_count": 65,
   "metadata": {
    "collapsed": true
   },
   "outputs": [
    {
     "name": "stdout",
     "output_type": "stream",
     "text": [
      "A  0   -1.346534\n",
      "   1   -0.165713\n",
      "   2   -0.586644\n",
      "   3   -0.704031\n",
      "   4    0.755180\n",
      "   5    0.123510\n",
      "   6   -0.784543\n",
      "   7   -0.035505\n",
      "   8    1.533675\n",
      "   9   -0.142669\n",
      "B  0   -1.687922\n",
      "   1    0.164250\n",
      "   2   -0.476885\n",
      "   3    2.339138\n",
      "   4   -1.251655\n",
      "   5   -0.775612\n",
      "   6    1.692410\n",
      "   7    0.567724\n",
      "   8   -0.197869\n",
      "   9    1.178538\n",
      "C  0    0.936270\n",
      "   1    0.253613\n",
      "   2   -0.316058\n",
      "   3    1.220160\n",
      "   4   -1.043953\n",
      "   5    0.594969\n",
      "   6    0.806469\n",
      "   7   -1.580662\n",
      "   8   -1.222289\n",
      "   9    0.094225\n",
      "dtype: float64\n"
     ]
    }
   ],
   "source": [
    "\n",
    "letters = ['A', 'B', 'C']\n",
    "numbers = list(range(10))\n",
    "\n",
    "# Create MultiIndex from the product of the two lists\n",
    "multi_index = pd.MultiIndex.from_product([letters, numbers])\n",
    "\n",
    "# Create Series of random numbers with the MultiIndex\n",
    "s = pd.Series(np.random.randn(len(multi_index)), index=multi_index)\n",
    "\n",
    "# Print the resulting Series\n",
    "print(s)\n"
   ]
  },
  {
   "attachments": {},
   "cell_type": "markdown",
   "metadata": {},
   "source": [
    "**45.** Check the index of `s` is lexicographically sorted (this is a necessary proprty for indexing to work correctly with a MultiIndex)."
   ]
  },
  {
   "cell_type": "code",
   "execution_count": 66,
   "metadata": {
    "collapsed": true
   },
   "outputs": [
    {
     "name": "stdout",
     "output_type": "stream",
     "text": [
      "True\n"
     ]
    },
    {
     "name": "stderr",
     "output_type": "stream",
     "text": [
      "C:\\Users\\Priyanka C\\AppData\\Local\\Temp\\ipykernel_15492\\1619784390.py:2: FutureWarning: MultiIndex.is_lexsorted is deprecated as a public function, users should use MultiIndex.is_monotonic_increasing instead.\n",
      "  is_sorted = s.index.is_lexsorted()\n"
     ]
    }
   ],
   "source": [
    "\n",
    "# Check if the index is lexicographically sorted\n",
    "is_sorted = s.index.is_lexsorted()\n",
    "\n",
    "# Print the result\n",
    "print(is_sorted)\n"
   ]
  },
  {
   "attachments": {},
   "cell_type": "markdown",
   "metadata": {},
   "source": [
    "**46**. Select the labels `1`, `3` and `6` from the second level of the MultiIndexed Series."
   ]
  },
  {
   "cell_type": "code",
   "execution_count": 67,
   "metadata": {
    "collapsed": true
   },
   "outputs": [
    {
     "name": "stdout",
     "output_type": "stream",
     "text": [
      "A  1   -0.165713\n",
      "   3   -0.704031\n",
      "   6   -0.784543\n",
      "B  1    0.164250\n",
      "   3    2.339138\n",
      "   6    1.692410\n",
      "C  1    0.253613\n",
      "   3    1.220160\n",
      "   6    0.806469\n",
      "dtype: float64\n"
     ]
    }
   ],
   "source": [
    "# Select labels 1, 3, and 6 from the second level\n",
    "result = s.loc[:, [1, 3, 6]]\n",
    "\n",
    "# Print the result\n",
    "print(result)\n"
   ]
  },
  {
   "attachments": {},
   "cell_type": "markdown",
   "metadata": {},
   "source": [
    "**47**. Slice the Series `s`; slice up to label 'B' for the first level and from label 5 onwards for the second level."
   ]
  },
  {
   "cell_type": "code",
   "execution_count": 68,
   "metadata": {
    "collapsed": true
   },
   "outputs": [
    {
     "name": "stdout",
     "output_type": "stream",
     "text": [
      "A  5    0.123510\n",
      "   6   -0.784543\n",
      "   7   -0.035505\n",
      "   8    1.533675\n",
      "   9   -0.142669\n",
      "B  5   -0.775612\n",
      "   6    1.692410\n",
      "   7    0.567724\n",
      "   8   -0.197869\n",
      "   9    1.178538\n",
      "dtype: float64\n"
     ]
    }
   ],
   "source": [
    "# Slice 's' based on the specified conditions\n",
    "result = s.loc[:'B', 5:]\n",
    "\n",
    "# Print the result\n",
    "print(result)\n"
   ]
  },
  {
   "attachments": {},
   "cell_type": "markdown",
   "metadata": {},
   "source": [
    "**48**. Sum the values in `s` for each label in the first level (you should have Series giving you a total for labels A, B and C)."
   ]
  },
  {
   "cell_type": "code",
   "execution_count": 69,
   "metadata": {
    "collapsed": true
   },
   "outputs": [
    {
     "name": "stdout",
     "output_type": "stream",
     "text": [
      "A   -1.353273\n",
      "B    1.552118\n",
      "C   -0.257256\n",
      "dtype: float64\n"
     ]
    }
   ],
   "source": [
    "# Sum the values in 's' for each label in the first level\n",
    "result = s.groupby(level=0).sum()\n",
    "\n",
    "# Print the result\n",
    "print(result)\n"
   ]
  },
  {
   "attachments": {},
   "cell_type": "markdown",
   "metadata": {},
   "source": [
    "**49**. Suppose that `sum()` (and other methods) did not accept a `level` keyword argument. How else could you perform the equivalent of `s.sum(level=1)`?"
   ]
  },
  {
   "cell_type": "code",
   "execution_count": 72,
   "metadata": {
    "collapsed": true
   },
   "outputs": [
    {
     "name": "stdout",
     "output_type": "stream",
     "text": [
      "0.2521493403680449\n"
     ]
    }
   ],
   "source": [
    "# Use the loc accessor to select the values at the second level\n",
    "result = s.loc[:, s.index.get_level_values(1) == 1].sum()\n",
    "\n",
    "# Print the result\n",
    "print(result)\n"
   ]
  },
  {
   "attachments": {},
   "cell_type": "markdown",
   "metadata": {},
   "source": [
    "**50**. Exchange the levels of the MultiIndex so we have an index of the form (letters, numbers). Is this new Series properly lexsorted? If not, sort it."
   ]
  },
  {
   "attachments": {},
   "cell_type": "markdown",
   "metadata": {},
   "source": [
    "## Minesweeper\n",
    "\n",
    "### Generate the numbers for safe squares in a Minesweeper grid\n",
    "\n",
    "Difficulty: *medium* to *hard*\n",
    "\n",
    "If you've ever used an older version of Windows, there's a good chance you've played with [Minesweeper](https://en.wikipedia.org/wiki/Minesweeper_(video_game). If you're not familiar with the game, imagine a grid of squares: some of these squares conceal a mine. If you click on a mine, you lose instantly. If you click on a safe square, you reveal a number telling you how many mines are found in the squares that are immediately adjacent. The aim of the game is to uncover all squares in the grid that do not contain a mine.\n",
    "\n",
    "In this section, we'll make a DataFrame that contains the necessary data for a game of Minesweeper: coordinates of the squares, whether the square contains a mine and the number of mines found on adjacent squares."
   ]
  },
  {
   "attachments": {},
   "cell_type": "markdown",
   "metadata": {},
   "source": [
    "**51**. Let's suppose we're playing Minesweeper on a 5 by 4 grid, i.e.\n",
    "```\n",
    "X = 5\n",
    "Y = 4\n",
    "```\n",
    "To begin, generate a DataFrame `df` with two columns, `'x'` and `'y'` containing every coordinate for this grid. That is, the DataFrame should start:\n",
    "```\n",
    "   x  y\n",
    "0  0  0\n",
    "1  0  1\n",
    "2  0  2\n",
    "```"
   ]
  },
  {
   "cell_type": "code",
   "execution_count": 73,
   "metadata": {
    "collapsed": true
   },
   "outputs": [
    {
     "name": "stdout",
     "output_type": "stream",
     "text": [
      "    x  y\n",
      "0   0  0\n",
      "1   0  1\n",
      "2   0  2\n",
      "3   0  3\n",
      "4   1  0\n",
      "5   1  1\n",
      "6   1  2\n",
      "7   1  3\n",
      "8   2  0\n",
      "9   2  1\n",
      "10  2  2\n",
      "11  2  3\n",
      "12  3  0\n",
      "13  3  1\n",
      "14  3  2\n",
      "15  3  3\n",
      "16  4  0\n",
      "17  4  1\n",
      "18  4  2\n",
      "19  4  3\n"
     ]
    }
   ],
   "source": [
    "import itertools\n",
    "\n",
    "X = 5\n",
    "Y = 4\n",
    "\n",
    "# Generate all combinations of x and y values\n",
    "coordinates = list(itertools.product(range(X), range(Y)))\n",
    "\n",
    "# Create the DataFrame\n",
    "df = pd.DataFrame(coordinates, columns=['x', 'y'])\n",
    "\n",
    "# Display the DataFrame\n",
    "print(df)\n"
   ]
  },
  {
   "attachments": {},
   "cell_type": "markdown",
   "metadata": {},
   "source": [
    "**52**. For this DataFrame `df`, create a new column of zeros (safe) and ones (mine). The probability of a mine occuring at each location should be 0.4."
   ]
  },
  {
   "cell_type": "code",
   "execution_count": 74,
   "metadata": {
    "collapsed": true
   },
   "outputs": [
    {
     "name": "stdout",
     "output_type": "stream",
     "text": [
      "    x  y  mine\n",
      "0   0  0     0\n",
      "1   0  1     0\n",
      "2   0  2     0\n",
      "3   0  3     0\n",
      "4   1  0     0\n",
      "5   1  1     1\n",
      "6   1  2     0\n",
      "7   1  3     1\n",
      "8   2  0     1\n",
      "9   2  1     1\n",
      "10  2  2     0\n",
      "11  2  3     1\n",
      "12  3  0     1\n",
      "13  3  1     0\n",
      "14  3  2     0\n",
      "15  3  3     1\n",
      "16  4  0     1\n",
      "17  4  1     0\n",
      "18  4  2     0\n",
      "19  4  3     0\n"
     ]
    }
   ],
   "source": [
    "# Define the probability of a mine occurrence\n",
    "mine_prob = 0.4\n",
    "\n",
    "# Add a new column 'mine' with zeros and ones based on the probability\n",
    "df['mine'] = np.random.choice([0, 1], size=len(df), p=[1 - mine_prob, mine_prob])\n",
    "\n",
    "# Display the updated DataFrame\n",
    "print(df)\n"
   ]
  },
  {
   "attachments": {},
   "cell_type": "markdown",
   "metadata": {},
   "source": [
    "**53**. Now create a new column for this DataFrame called `'adjacent'`. This column should contain the number of mines found on adjacent squares in the grid. \n",
    "\n",
    "(E.g. for the first row, which is the entry for the coordinate `(0, 0)`, count how many mines are found on the coordinates `(0, 1)`, `(1, 0)` and `(1, 1)`.)"
   ]
  },
  {
   "cell_type": "code",
   "execution_count": 75,
   "metadata": {
    "collapsed": true
   },
   "outputs": [
    {
     "name": "stdout",
     "output_type": "stream",
     "text": [
      "    x  y  mine\n",
      "0   0  0     0\n",
      "1   0  1     0\n",
      "2   0  2     1\n",
      "3   0  3     1\n",
      "4   1  0     0\n",
      "5   1  1     0\n",
      "6   1  2     0\n",
      "7   1  3     1\n",
      "8   2  0     1\n",
      "9   2  1     1\n",
      "10  2  2     0\n",
      "11  2  3     0\n",
      "12  3  0     1\n",
      "13  3  1     0\n",
      "14  3  2     0\n",
      "15  3  3     0\n",
      "16  4  0     0\n",
      "17  4  1     0\n",
      "18  4  2     1\n",
      "19  4  3     1\n"
     ]
    }
   ],
   "source": [
    "# Define the probability of a mine occurrence\n",
    "mine_prob = 0.4\n",
    "\n",
    "# Add a new column 'mine' with zeros and ones based on the probability\n",
    "df['mine'] = np.random.choice([0, 1], size=len(df), p=[1 - mine_prob, mine_prob])\n",
    "\n",
    "# Display the updated DataFrame\n",
    "print(df)\n"
   ]
  },
  {
   "attachments": {},
   "cell_type": "markdown",
   "metadata": {},
   "source": [
    "**54**. For rows of the DataFrame that contain a mine, set the value in the `'adjacent'` column to NaN."
   ]
  },
  {
   "cell_type": "code",
   "execution_count": 76,
   "metadata": {
    "collapsed": true
   },
   "outputs": [
    {
     "name": "stdout",
     "output_type": "stream",
     "text": [
      "    x  y  mine  adjacent\n",
      "0   0  0     0       NaN\n",
      "1   0  1     0       NaN\n",
      "2   0  2     1       NaN\n",
      "3   0  3     1       NaN\n",
      "4   1  0     0       NaN\n",
      "5   1  1     0       NaN\n",
      "6   1  2     0       NaN\n",
      "7   1  3     1       NaN\n",
      "8   2  0     1       NaN\n",
      "9   2  1     1       NaN\n",
      "10  2  2     0       NaN\n",
      "11  2  3     0       NaN\n",
      "12  3  0     1       NaN\n",
      "13  3  1     0       NaN\n",
      "14  3  2     0       NaN\n",
      "15  3  3     0       NaN\n",
      "16  4  0     0       NaN\n",
      "17  4  1     0       NaN\n",
      "18  4  2     1       NaN\n",
      "19  4  3     1       NaN\n"
     ]
    }
   ],
   "source": [
    "# Set the value in 'adjacent' column to NaN for rows with a mine\n",
    "df.loc[df['mine'] == 1, 'adjacent'] = np.nan\n",
    "\n",
    "# Display the updated DataFrame\n",
    "print(df)\n"
   ]
  },
  {
   "attachments": {},
   "cell_type": "markdown",
   "metadata": {},
   "source": [
    "**55**. Finally, convert the DataFrame to grid of the adjacent mine counts: columns are the `x` coordinate, rows are the `y` coordinate."
   ]
  },
  {
   "cell_type": "code",
   "execution_count": 77,
   "metadata": {
    "collapsed": true
   },
   "outputs": [
    {
     "name": "stdout",
     "output_type": "stream",
     "text": [
      "x   0   1   2   3   4\n",
      "y                    \n",
      "0 NaN NaN NaN NaN NaN\n",
      "1 NaN NaN NaN NaN NaN\n",
      "2 NaN NaN NaN NaN NaN\n",
      "3 NaN NaN NaN NaN NaN\n"
     ]
    }
   ],
   "source": [
    "# Convert DataFrame to grid of adjacent mine counts\n",
    "grid = df.pivot(index='y', columns='x', values='adjacent')\n",
    "\n",
    "# Display the resulting grid\n",
    "print(grid)\n",
    "\n"
   ]
  },
  {
   "attachments": {},
   "cell_type": "markdown",
   "metadata": {},
   "source": [
    "## Plotting\n",
    "\n",
    "### Visualize trends and patterns in data\n",
    "\n",
    "Difficulty: *medium*\n",
    "\n",
    "To really get a good understanding of the data contained in your DataFrame, it is often essential to create plots: if you're lucky, trends and anomalies will jump right out at you. This functionality is baked into pandas and the puzzles below explore some of what's possible with the library.\n",
    "\n",
    "**56.** Pandas is highly integrated with the plotting library matplotlib, and makes plotting DataFrames very user-friendly! Plotting in a notebook environment usually makes use of the following boilerplate:\n",
    "\n",
    "```python\n",
    "import matplotlib.pyplot as plt\n",
    "%matplotlib inline\n",
    "plt.style.use('ggplot')\n",
    "```\n",
    "\n",
    "matplotlib is the plotting library which pandas' plotting functionality is built upon, and it is usually aliased to ```plt```.\n",
    "\n",
    "```%matplotlib inline``` tells the notebook to show plots inline, instead of creating them in a separate window.  \n",
    "\n",
    "```plt.style.use('ggplot')``` is a style theme that most people find agreeable, based upon the styling of R's ggplot package.\n",
    "\n",
    "For starters, make a scatter plot of this random data, but use black X's instead of the default markers. \n",
    "\n",
    "```df = pd.DataFrame({\"xs\":[1,5,2,8,1], \"ys\":[4,2,1,9,6]})```\n",
    "\n",
    "Consult the [documentation](https://pandas.pydata.org/pandas-docs/stable/generated/pandas.DataFrame.plot.html) if you get stuck!"
   ]
  },
  {
   "cell_type": "code",
   "execution_count": 81,
   "metadata": {
    "collapsed": true
   },
   "outputs": [
    {
     "name": "stdout",
     "output_type": "stream",
     "text": [
      "Collecting matplotlib\n",
      "  Downloading matplotlib-3.7.1-cp310-cp310-win_amd64.whl (7.6 MB)\n",
      "                                              0.0/7.6 MB ? eta -:--:--\n",
      "                                              0.1/7.6 MB 5.8 MB/s eta 0:00:02\n",
      "     -                                        0.3/7.6 MB 2.3 MB/s eta 0:00:04\n",
      "     -                                        0.4/7.6 MB 1.9 MB/s eta 0:00:04\n",
      "     --                                       0.5/7.6 MB 1.9 MB/s eta 0:00:04\n",
      "     --                                       0.5/7.6 MB 1.6 MB/s eta 0:00:05\n",
      "     --                                       0.6/7.6 MB 1.4 MB/s eta 0:00:05\n",
      "     --                                       0.6/7.6 MB 1.3 MB/s eta 0:00:06\n",
      "     --                                       0.6/7.6 MB 1.3 MB/s eta 0:00:06\n",
      "     ---                                      0.6/7.6 MB 1.0 MB/s eta 0:00:07\n",
      "     ---                                      0.6/7.6 MB 958.4 kB/s eta 0:00:08\n",
      "     ---                                      0.6/7.6 MB 958.4 kB/s eta 0:00:08\n",
      "     ---                                      0.6/7.6 MB 859.4 kB/s eta 0:00:09\n",
      "     ---                                      0.6/7.6 MB 859.4 kB/s eta 0:00:09\n",
      "     ---                                      0.6/7.6 MB 740.1 kB/s eta 0:00:10\n",
      "     ---                                      0.6/7.6 MB 740.1 kB/s eta 0:00:10\n",
      "     ---                                      0.6/7.6 MB 645.2 kB/s eta 0:00:11\n",
      "     ---                                      0.7/7.6 MB 625.9 kB/s eta 0:00:12\n",
      "     ---                                      0.7/7.6 MB 625.9 kB/s eta 0:00:12\n",
      "     ---                                      0.7/7.6 MB 585.4 kB/s eta 0:00:12\n",
      "     ---                                      0.7/7.6 MB 585.4 kB/s eta 0:00:12\n",
      "     ---                                      0.7/7.6 MB 552.7 kB/s eta 0:00:13\n",
      "     ---                                      0.7/7.6 MB 548.6 kB/s eta 0:00:13\n",
      "     ----                                     0.8/7.6 MB 540.1 kB/s eta 0:00:13\n",
      "     ----                                     0.8/7.6 MB 525.7 kB/s eta 0:00:13\n",
      "     ----                                     0.8/7.6 MB 521.7 kB/s eta 0:00:14\n",
      "     ----                                     0.8/7.6 MB 510.4 kB/s eta 0:00:14\n",
      "     ----                                     0.8/7.6 MB 510.4 kB/s eta 0:00:14\n",
      "     ----                                     0.9/7.6 MB 494.4 kB/s eta 0:00:14\n",
      "     ----                                     0.9/7.6 MB 488.7 kB/s eta 0:00:14\n",
      "     ----                                     0.9/7.6 MB 488.7 kB/s eta 0:00:14\n",
      "     ----                                     0.9/7.6 MB 462.0 kB/s eta 0:00:15\n",
      "     ----                                     0.9/7.6 MB 461.4 kB/s eta 0:00:15\n",
      "     ----                                     0.9/7.6 MB 458.8 kB/s eta 0:00:15\n",
      "     -----                                    1.0/7.6 MB 458.3 kB/s eta 0:00:15\n",
      "     -----                                    1.0/7.6 MB 459.1 kB/s eta 0:00:15\n",
      "     -----                                    1.0/7.6 MB 460.2 kB/s eta 0:00:15\n",
      "     -----                                    1.1/7.6 MB 470.0 kB/s eta 0:00:14\n",
      "     -----                                    1.1/7.6 MB 480.5 kB/s eta 0:00:14\n",
      "     ------                                   1.1/7.6 MB 478.6 kB/s eta 0:00:14\n",
      "     ------                                   1.2/7.6 MB 477.8 kB/s eta 0:00:14\n",
      "     ------                                   1.2/7.6 MB 464.0 kB/s eta 0:00:14\n",
      "     ------                                   1.2/7.6 MB 464.0 kB/s eta 0:00:14\n",
      "     ------                                   1.2/7.6 MB 449.8 kB/s eta 0:00:15\n",
      "     ------                                   1.2/7.6 MB 449.5 kB/s eta 0:00:15\n",
      "     ------                                   1.2/7.6 MB 449.5 kB/s eta 0:00:15\n",
      "     ------                                   1.2/7.6 MB 430.9 kB/s eta 0:00:15\n",
      "     ------                                   1.2/7.6 MB 430.9 kB/s eta 0:00:15\n",
      "     ------                                   1.2/7.6 MB 419.6 kB/s eta 0:00:16\n",
      "     ------                                   1.3/7.6 MB 410.0 kB/s eta 0:00:16\n",
      "     ------                                   1.3/7.6 MB 410.4 kB/s eta 0:00:16\n",
      "     ------                                   1.3/7.6 MB 410.8 kB/s eta 0:00:16\n",
      "     ------                                   1.3/7.6 MB 408.5 kB/s eta 0:00:16\n",
      "     -------                                  1.3/7.6 MB 403.8 kB/s eta 0:00:16\n",
      "     -------                                  1.4/7.6 MB 404.2 kB/s eta 0:00:16\n",
      "     -------                                  1.4/7.6 MB 404.6 kB/s eta 0:00:16\n",
      "     -------                                  1.4/7.6 MB 402.7 kB/s eta 0:00:16\n",
      "     -------                                  1.5/7.6 MB 408.1 kB/s eta 0:00:16\n",
      "     -------                                  1.5/7.6 MB 410.6 kB/s eta 0:00:15\n",
      "     --------                                 1.5/7.6 MB 414.5 kB/s eta 0:00:15\n",
      "     --------                                 1.5/7.6 MB 413.0 kB/s eta 0:00:15\n",
      "     --------                                 1.6/7.6 MB 416.0 kB/s eta 0:00:15\n",
      "     --------                                 1.6/7.6 MB 413.6 kB/s eta 0:00:15\n",
      "     --------                                 1.6/7.6 MB 414.0 kB/s eta 0:00:15\n",
      "     --------                                 1.6/7.6 MB 413.4 kB/s eta 0:00:15\n",
      "     --------                                 1.7/7.6 MB 413.1 kB/s eta 0:00:15\n",
      "     --------                                 1.7/7.6 MB 413.1 kB/s eta 0:00:15\n",
      "     --------                                 1.7/7.6 MB 411.2 kB/s eta 0:00:15\n",
      "     ---------                                1.7/7.6 MB 411.5 kB/s eta 0:00:15\n",
      "     ---------                                1.7/7.6 MB 411.5 kB/s eta 0:00:15\n",
      "     ---------                                1.8/7.6 MB 402.2 kB/s eta 0:00:15\n",
      "     ---------                                1.8/7.6 MB 400.2 kB/s eta 0:00:15\n",
      "     ---------                                1.8/7.6 MB 400.6 kB/s eta 0:00:15\n",
      "     ---------                                1.8/7.6 MB 401.0 kB/s eta 0:00:15\n",
      "     ---------                                1.8/7.6 MB 399.1 kB/s eta 0:00:15\n",
      "     ---------                                1.8/7.6 MB 396.8 kB/s eta 0:00:15\n",
      "     ---------                                1.9/7.6 MB 395.9 kB/s eta 0:00:15\n",
      "     ---------                                1.9/7.6 MB 394.1 kB/s eta 0:00:15\n",
      "     ---------                                1.9/7.6 MB 391.5 kB/s eta 0:00:15\n",
      "     ----------                               1.9/7.6 MB 394.5 kB/s eta 0:00:15\n",
      "     ----------                               1.9/7.6 MB 392.4 kB/s eta 0:00:15\n",
      "     ----------                               1.9/7.6 MB 390.7 kB/s eta 0:00:15\n",
      "     ----------                               2.0/7.6 MB 392.0 kB/s eta 0:00:15\n",
      "     ----------                               2.0/7.6 MB 395.2 kB/s eta 0:00:15\n",
      "     ----------                               2.0/7.6 MB 396.4 kB/s eta 0:00:15\n",
      "     ----------                               2.1/7.6 MB 397.6 kB/s eta 0:00:14\n",
      "     -----------                              2.1/7.6 MB 403.3 kB/s eta 0:00:14\n",
      "     -----------                              2.2/7.6 MB 408.6 kB/s eta 0:00:14\n",
      "     -----------                              2.3/7.6 MB 416.0 kB/s eta 0:00:13\n",
      "     ------------                             2.3/7.6 MB 423.7 kB/s eta 0:00:13\n",
      "     ------------                             2.4/7.6 MB 430.7 kB/s eta 0:00:13\n",
      "     ------------                             2.5/7.6 MB 439.9 kB/s eta 0:00:12\n",
      "     -------------                            2.5/7.6 MB 449.0 kB/s eta 0:00:12\n",
      "     -------------                            2.6/7.6 MB 450.1 kB/s eta 0:00:12\n",
      "     --------------                           2.7/7.6 MB 462.3 kB/s eta 0:00:11\n",
      "     --------------                           2.7/7.6 MB 467.4 kB/s eta 0:00:11\n",
      "     --------------                           2.8/7.6 MB 474.5 kB/s eta 0:00:11\n",
      "     --------------                           2.8/7.6 MB 477.7 kB/s eta 0:00:11\n",
      "     ---------------                          2.9/7.6 MB 481.3 kB/s eta 0:00:10\n",
      "     ---------------                          2.9/7.6 MB 487.3 kB/s eta 0:00:10\n",
      "     ---------------                          3.0/7.6 MB 489.8 kB/s eta 0:00:10\n",
      "     ----------------                         3.1/7.6 MB 493.1 kB/s eta 0:00:10\n",
      "     ----------------                         3.1/7.6 MB 501.4 kB/s eta 0:00:09\n",
      "     ----------------                         3.2/7.6 MB 508.1 kB/s eta 0:00:09\n",
      "     -----------------                        3.3/7.6 MB 513.1 kB/s eta 0:00:09\n",
      "     -----------------                        3.3/7.6 MB 517.3 kB/s eta 0:00:09\n",
      "     -----------------                        3.4/7.6 MB 524.9 kB/s eta 0:00:08\n",
      "     ------------------                       3.6/7.6 MB 537.3 kB/s eta 0:00:08\n",
      "     -------------------                      3.7/7.6 MB 549.2 kB/s eta 0:00:08\n",
      "     -------------------                      3.8/7.6 MB 562.6 kB/s eta 0:00:07\n",
      "     --------------------                     3.9/7.6 MB 567.8 kB/s eta 0:00:07\n",
      "     --------------------                     3.9/7.6 MB 569.9 kB/s eta 0:00:07\n",
      "     --------------------                     4.0/7.6 MB 573.4 kB/s eta 0:00:07\n",
      "     ---------------------                    4.0/7.6 MB 580.0 kB/s eta 0:00:07\n",
      "     ---------------------                    4.1/7.6 MB 586.6 kB/s eta 0:00:06\n",
      "     ----------------------                   4.3/7.6 MB 601.8 kB/s eta 0:00:06\n",
      "     ----------------------                   4.4/7.6 MB 612.2 kB/s eta 0:00:06\n",
      "     -----------------------                  4.5/7.6 MB 624.0 kB/s eta 0:00:06\n",
      "     ------------------------                 4.6/7.6 MB 631.3 kB/s eta 0:00:05\n",
      "     ------------------------                 4.8/7.6 MB 649.7 kB/s eta 0:00:05\n",
      "     -------------------------                4.9/7.6 MB 665.0 kB/s eta 0:00:05\n",
      "     -------------------------                4.9/7.6 MB 663.6 kB/s eta 0:00:05\n",
      "     --------------------------               5.0/7.6 MB 671.8 kB/s eta 0:00:04\n",
      "     --------------------------               5.1/7.6 MB 678.5 kB/s eta 0:00:04\n",
      "     ---------------------------              5.3/7.6 MB 691.7 kB/s eta 0:00:04\n",
      "     ----------------------------             5.4/7.6 MB 704.7 kB/s eta 0:00:04\n",
      "     -----------------------------            5.6/7.6 MB 724.1 kB/s eta 0:00:03\n",
      "     ------------------------------           5.8/7.6 MB 736.5 kB/s eta 0:00:03\n",
      "     ------------------------------           5.9/7.6 MB 742.5 kB/s eta 0:00:03\n",
      "     -------------------------------          6.0/7.6 MB 754.6 kB/s eta 0:00:03\n",
      "     --------------------------------         6.2/7.6 MB 769.3 kB/s eta 0:00:02\n",
      "     --------------------------------         6.3/7.6 MB 780.1 kB/s eta 0:00:02\n",
      "     ---------------------------------        6.5/7.6 MB 794.0 kB/s eta 0:00:02\n",
      "     ----------------------------------       6.7/7.6 MB 811.4 kB/s eta 0:00:02\n",
      "     -----------------------------------      6.8/7.6 MB 824.8 kB/s eta 0:00:01\n",
      "     ------------------------------------     7.0/7.6 MB 839.1 kB/s eta 0:00:01\n",
      "     -------------------------------------    7.2/7.6 MB 848.7 kB/s eta 0:00:01\n",
      "     --------------------------------------   7.4/7.6 MB 865.0 kB/s eta 0:00:01\n",
      "     ---------------------------------------  7.5/7.6 MB 875.4 kB/s eta 0:00:01\n",
      "     ---------------------------------------  7.6/7.6 MB 882.1 kB/s eta 0:00:01\n",
      "     ---------------------------------------  7.6/7.6 MB 882.1 kB/s eta 0:00:01\n",
      "     ---------------------------------------  7.6/7.6 MB 882.1 kB/s eta 0:00:01\n",
      "     ---------------------------------------- 7.6/7.6 MB 861.3 kB/s eta 0:00:00\n",
      "Collecting contourpy>=1.0.1 (from matplotlib)\n",
      "  Downloading contourpy-1.0.7-cp310-cp310-win_amd64.whl (162 kB)\n",
      "                                              0.0/163.0 kB ? eta -:--:--\n",
      "     ----------------------------           122.9/163.0 kB 3.5 MB/s eta 0:00:01\n",
      "     -----------------------------------    153.6/163.0 kB 2.3 MB/s eta 0:00:01\n",
      "     ------------------------------------ 163.0/163.0 kB 972.9 kB/s eta 0:00:00\n",
      "Collecting cycler>=0.10 (from matplotlib)\n",
      "  Using cached cycler-0.11.0-py3-none-any.whl (6.4 kB)\n",
      "Collecting fonttools>=4.22.0 (from matplotlib)\n",
      "  Using cached fonttools-4.39.4-py3-none-any.whl (1.0 MB)\n",
      "Collecting kiwisolver>=1.0.1 (from matplotlib)\n",
      "  Downloading kiwisolver-1.4.4-cp310-cp310-win_amd64.whl (55 kB)\n",
      "                                              0.0/55.3 kB ? eta -:--:--\n",
      "     -------------------------------------    51.2/55.3 kB 1.3 MB/s eta 0:00:01\n",
      "     -------------------------------------    51.2/55.3 kB 1.3 MB/s eta 0:00:01\n",
      "     -------------------------------------    51.2/55.3 kB 1.3 MB/s eta 0:00:01\n",
      "     -------------------------------------- 55.3/55.3 kB 221.8 kB/s eta 0:00:00\n",
      "Requirement already satisfied: numpy>=1.20 in c:\\users\\priyanka c\\lib\\site-packages (from matplotlib) (1.23.5)\n",
      "Requirement already satisfied: packaging>=20.0 in c:\\users\\priyanka c\\appdata\\roaming\\python\\python310\\site-packages (from matplotlib) (23.1)\n",
      "Collecting pillow>=6.2.0 (from matplotlib)\n",
      "  Downloading Pillow-9.5.0-cp310-cp310-win_amd64.whl (2.5 MB)\n",
      "                                              0.0/2.5 MB ? eta -:--:--\n",
      "     -                                        0.1/2.5 MB 3.2 MB/s eta 0:00:01\n",
      "     ---                                      0.2/2.5 MB 2.8 MB/s eta 0:00:01\n",
      "     -----                                    0.4/2.5 MB 2.5 MB/s eta 0:00:01\n",
      "     --------                                 0.5/2.5 MB 2.5 MB/s eta 0:00:01\n",
      "     ----------                               0.7/2.5 MB 2.5 MB/s eta 0:00:01\n",
      "     -------------                            0.8/2.5 MB 2.4 MB/s eta 0:00:01\n",
      "     ---------------                          1.0/2.5 MB 2.4 MB/s eta 0:00:01\n",
      "     ------------------                       1.1/2.5 MB 2.4 MB/s eta 0:00:01\n",
      "     --------------------                     1.3/2.5 MB 2.4 MB/s eta 0:00:01\n",
      "     ----------------------                   1.4/2.5 MB 2.4 MB/s eta 0:00:01\n",
      "     ------------------------                 1.6/2.5 MB 2.4 MB/s eta 0:00:01\n",
      "     ---------------------------              1.7/2.5 MB 2.4 MB/s eta 0:00:01\n",
      "     ------------------------------           1.9/2.5 MB 2.4 MB/s eta 0:00:01\n",
      "     --------------------------------         2.1/2.5 MB 2.4 MB/s eta 0:00:01\n",
      "     -----------------------------------      2.2/2.5 MB 2.4 MB/s eta 0:00:01\n",
      "     -------------------------------------    2.3/2.5 MB 2.4 MB/s eta 0:00:01\n",
      "     ---------------------------------------  2.5/2.5 MB 2.4 MB/s eta 0:00:01\n",
      "     ---------------------------------------  2.5/2.5 MB 2.4 MB/s eta 0:00:01\n",
      "     ---------------------------------------  2.5/2.5 MB 2.4 MB/s eta 0:00:01\n",
      "     ---------------------------------------- 2.5/2.5 MB 2.0 MB/s eta 0:00:00\n",
      "Collecting pyparsing>=2.3.1 (from matplotlib)\n",
      "  Using cached pyparsing-3.0.9-py3-none-any.whl (98 kB)\n",
      "Requirement already satisfied: python-dateutil>=2.7 in c:\\users\\priyanka c\\lib\\site-packages (from matplotlib) (2.8.2)\n",
      "Requirement already satisfied: six>=1.5 in c:\\users\\priyanka c\\lib\\site-packages (from python-dateutil>=2.7->matplotlib) (1.16.0)\n",
      "Installing collected packages: pyparsing, pillow, kiwisolver, fonttools, cycler, contourpy, matplotlib\n",
      "Successfully installed contourpy-1.0.7 cycler-0.11.0 fonttools-4.39.4 kiwisolver-1.4.4 matplotlib-3.7.1 pillow-9.5.0 pyparsing-3.0.9\n"
     ]
    },
    {
     "data": {
      "image/png": "[encoded data removed]",
      "text/plain": [
       "<Figure size 640x480 with 1 Axes>"
      ]
     },
     "metadata": {},
     "output_type": "display_data"
    }
   ],
   "source": [
    "!pip install matplotlib\n",
    "import matplotlib.pyplot as plt\n",
    "%matplotlib inline\n",
    "plt.style.use('ggplot')\n",
    "\n",
    "df = pd.DataFrame({\"xs\": [1, 5, 2, 8, 1], \"ys\": [4, 2, 1, 9, 6]})\n",
    "\n",
    "df.plot(kind='scatter', x='xs', y='ys', marker='x', color='black')\n",
    "plt.show()\n"
   ]
  },
  {
   "attachments": {},
   "cell_type": "markdown",
   "metadata": {},
   "source": [
    "**57.** Columns in your DataFrame can also be used to modify colors and sizes.  Bill has been keeping track of his performance at work over time, as well as how good he was feeling that day, and whether he had a cup of coffee in the morning.  Make a plot which incorporates all four features of this DataFrame.\n",
    "\n",
    "(Hint:  If you're having trouble seeing the plot, try multiplying the Series which you choose to represent size by 10 or more)\n",
    "\n",
    "*The chart doesn't have to be pretty: this isn't a course in data viz!*\n",
    "\n",
    "```\n",
    "df = pd.DataFrame({\"productivity\":[5,2,3,1,4,5,6,7,8,3,4,8,9],\n",
    "                   \"hours_in\"    :[1,9,6,5,3,9,2,9,1,7,4,2,2],\n",
    "                   \"happiness\"   :[2,1,3,2,3,1,2,3,1,2,2,1,3],\n",
    "                   \"caffienated\" :[0,0,1,1,0,0,0,0,1,1,0,1,0]})\n",
    "```"
   ]
  },
  {
   "cell_type": "code",
   "execution_count": 83,
   "metadata": {
    "collapsed": true
   },
   "outputs": [
    {
     "ename": "RuntimeError",
     "evalue": "No mappable was found to use for colorbar creation. First define a mappable such as an image (with imshow) or a contour set (with contourf).",
     "output_type": "error",
     "traceback": [
      "\u001b[1;31m---------------------------------------------------------------------------\u001b[0m",
      "\u001b[1;31mRuntimeError\u001b[0m                              Traceback (most recent call last)",
      "Cell \u001b[1;32mIn[83], line 15\u001b[0m\n\u001b[0;32m     13\u001b[0m plt\u001b[39m.\u001b[39mylabel(\u001b[39m'\u001b[39m\u001b[39mHours Worked\u001b[39m\u001b[39m'\u001b[39m)\n\u001b[0;32m     14\u001b[0m plt\u001b[39m.\u001b[39mtitle(\u001b[39m'\u001b[39m\u001b[39mPerformance and Well-being\u001b[39m\u001b[39m'\u001b[39m)\n\u001b[1;32m---> 15\u001b[0m plt\u001b[39m.\u001b[39;49mcolorbar(label\u001b[39m=\u001b[39;49m\u001b[39m'\u001b[39;49m\u001b[39mHappiness\u001b[39;49m\u001b[39m'\u001b[39;49m)\n\u001b[0;32m     16\u001b[0m plt\u001b[39m.\u001b[39mshow()\n",
      "File \u001b[1;32mc:\\Users\\Priyanka C\\lib\\site-packages\\matplotlib\\pyplot.py:2133\u001b[0m, in \u001b[0;36mcolorbar\u001b[1;34m(mappable, cax, ax, **kwargs)\u001b[0m\n\u001b[0;32m   2131\u001b[0m     mappable \u001b[39m=\u001b[39m gci()\n\u001b[0;32m   2132\u001b[0m     \u001b[39mif\u001b[39;00m mappable \u001b[39mis\u001b[39;00m \u001b[39mNone\u001b[39;00m:\n\u001b[1;32m-> 2133\u001b[0m         \u001b[39mraise\u001b[39;00m \u001b[39mRuntimeError\u001b[39;00m(\u001b[39m'\u001b[39m\u001b[39mNo mappable was found to use for colorbar \u001b[39m\u001b[39m'\u001b[39m\n\u001b[0;32m   2134\u001b[0m                            \u001b[39m'\u001b[39m\u001b[39mcreation. First define a mappable such as \u001b[39m\u001b[39m'\u001b[39m\n\u001b[0;32m   2135\u001b[0m                            \u001b[39m'\u001b[39m\u001b[39man image (with imshow) or a contour set (\u001b[39m\u001b[39m'\u001b[39m\n\u001b[0;32m   2136\u001b[0m                            \u001b[39m'\u001b[39m\u001b[39mwith contourf).\u001b[39m\u001b[39m'\u001b[39m)\n\u001b[0;32m   2137\u001b[0m ret \u001b[39m=\u001b[39m gcf()\u001b[39m.\u001b[39mcolorbar(mappable, cax\u001b[39m=\u001b[39mcax, ax\u001b[39m=\u001b[39max, \u001b[39m*\u001b[39m\u001b[39m*\u001b[39mkwargs)\n\u001b[0;32m   2138\u001b[0m \u001b[39mreturn\u001b[39;00m ret\n",
      "\u001b[1;31mRuntimeError\u001b[0m: No mappable was found to use for colorbar creation. First define a mappable such as an image (with imshow) or a contour set (with contourf)."
     ]
    },
    {
     "data": {
      "image/png": "[encoded data removed]",
      "text/plain": [
       "<Figure size 640x480 with 2 Axes>"
      ]
     },
     "metadata": {},
     "output_type": "display_data"
    }
   ],
   "source": [
    "import matplotlib.pyplot as plt\n",
    "%matplotlib inline\n",
    "plt.style.use('ggplot')\n",
    "\n",
    "df = pd.DataFrame({\"productivity\": [5, 2, 3, 1, 4, 5, 6, 7, 8, 3, 4, 8, 9],\n",
    "                   \"hours_in\": [1, 9, 6, 5, 3, 9, 2, 9, 1, 7, 4, 2, 2],\n",
    "                   \"happiness\": [2, 1, 3, 2, 3, 1, 2, 3, 1, 2, 2, 1, 3],\n",
    "                   \"caffienated\": [0, 0, 1, 1, 0, 0, 0, 0, 1, 1, 0, 1, 0]})\n",
    "\n",
    "df.plot(kind='scatter', x='productivity', y='hours_in', c='happiness', s=df['caffienated']*15+5, cmap='cool', marker='x')\n",
    "\n",
    "plt.xlabel('Productivity')\n",
    "plt.ylabel('Hours Worked')\n",
    "plt.title('Performance and Well-being')\n",
    "plt.colorbar(label='Happiness')\n",
    "plt.show()\n"
   ]
  },
  {
   "attachments": {},
   "cell_type": "markdown",
   "metadata": {},
   "source": [
    "**58.**  What if we want to plot multiple things?  Pandas allows you to pass in a matplotlib *Axis* object for plots, and plots will also return an Axis object.\n",
    "\n",
    "Make a bar plot of monthly revenue with a line plot of monthly advertising spending (numbers in millions)\n",
    "\n",
    "```\n",
    "df = pd.DataFrame({\"revenue\":[57,68,63,71,72,90,80,62,59,51,47,52],\n",
    "                   \"advertising\":[2.1,1.9,2.7,3.0,3.6,3.2,2.7,2.4,1.8,1.6,1.3,1.9],\n",
    "                   \"month\":range(12)\n",
    "                  })\n",
    "```"
   ]
  },
  {
   "cell_type": "code",
   "execution_count": 84,
   "metadata": {
    "collapsed": true
   },
   "outputs": [
    {
     "data": {
      "image/png": "[encoded data removed]",
      "text/plain": [
       "<Figure size 640x480 with 1 Axes>"
      ]
     },
     "metadata": {},
     "output_type": "display_data"
    }
   ],
   "source": [
    "import matplotlib.pyplot as plt\n",
    "%matplotlib inline\n",
    "plt.style.use('ggplot')\n",
    "\n",
    "df = pd.DataFrame({\"revenue\": [57, 68, 63, 71, 72, 90, 80, 62, 59, 51, 47, 52],\n",
    "                   \"advertising\": [2.1, 1.9, 2.7, 3.0, 3.6, 3.2, 2.7, 2.4, 1.8, 1.6, 1.3, 1.9],\n",
    "                   \"month\": range(12)\n",
    "                  })\n",
    "\n",
    "fig, ax = plt.subplots()\n",
    "\n",
    "df.plot(x='month', y='revenue', kind='bar', ax=ax, color='steelblue', label='Revenue')\n",
    "df.plot(x='month', y='advertising', kind='line', ax=ax, color='orange', marker='o', label='Advertising')\n",
    "\n",
    "plt.xlabel('Month')\n",
    "plt.ylabel('Amount (Millions)')\n",
    "plt.title('Monthly Revenue and Advertising Spending')\n",
    "plt.legend()\n",
    "plt.show()\n"
   ]
  },
  {
   "attachments": {},
   "cell_type": "markdown",
   "metadata": {},
   "source": [
    "Now we're finally ready to create a candlestick chart, which is a very common tool used to analyze stock price data.  A candlestick chart shows the opening, closing, highest, and lowest price for a stock during a time window.  The color of the \"candle\" (the thick part of the bar) is green if the stock closed above its opening price, or red if below.\n",
    "\n",
    "![Candlestick Example](img/candle.jpg)\n",
    "\n",
    "This was initially designed to be a pandas plotting challenge, but it just so happens that this type of plot is just not feasible using pandas' methods.  If you are unfamiliar with matplotlib, we have provided a function that will plot the chart for you so long as you can use pandas to get the data into the correct format.\n",
    "\n",
    "Your first step should be to get the data in the correct format using pandas' time-series grouping function.  We would like each candle to represent an hour's worth of data.  You can write your own aggregation function which returns the open/high/low/close, but pandas has a built-in which also does this."
   ]
  },
  {
   "attachments": {},
   "cell_type": "markdown",
   "metadata": {},
   "source": [
    "The below cell contains helper functions.  Call ```day_stock_data()``` to generate a DataFrame containing the prices a hypothetical stock sold for, and the time the sale occurred.  Call ```plot_candlestick(df)``` on your properly aggregated and formatted stock data to print the candlestick chart."
   ]
  },
  {
   "cell_type": "code",
   "execution_count": 85,
   "metadata": {
    "collapsed": true
   },
   "outputs": [],
   "source": [
    "import numpy as np\n",
    "def float_to_time(x):\n",
    "    return str(int(x)) + \":\" + str(int(x%1 * 60)).zfill(2) + \":\" + str(int(x*60 % 1 * 60)).zfill(2)\n",
    "\n",
    "def day_stock_data():\n",
    "    #NYSE is open from 9:30 to 4:00\n",
    "    time = 9.5\n",
    "    price = 100\n",
    "    results = [(float_to_time(time), price)]\n",
    "    while time < 16:\n",
    "        elapsed = np.random.exponential(.001)\n",
    "        time += elapsed\n",
    "        if time > 16:\n",
    "            break\n",
    "        price_diff = np.random.uniform(.999, 1.001)\n",
    "        price *= price_diff\n",
    "        results.append((float_to_time(time), price))\n",
    "    \n",
    "    \n",
    "    df = pd.DataFrame(results, columns = ['time','price'])\n",
    "    df.time = pd.to_datetime(df.time)\n",
    "    return df\n",
    "\n",
    "#Don't read me unless you get stuck!\n",
    "def plot_candlestick(agg):\n",
    "    \"\"\"\n",
    "    agg is a DataFrame which has a DatetimeIndex and five columns: [\"open\",\"high\",\"low\",\"close\",\"color\"]\n",
    "    \"\"\"\n",
    "    fig, ax = plt.subplots()\n",
    "    for time in agg.index:\n",
    "        ax.plot([time.hour] * 2, agg.loc[time, [\"high\",\"low\"]].values, color = \"black\")\n",
    "        ax.plot([time.hour] * 2, agg.loc[time, [\"open\",\"close\"]].values, color = agg.loc[time, \"color\"], linewidth = 10)\n",
    "\n",
    "    ax.set_xlim((8,16))\n",
    "    ax.set_ylabel(\"Price\")\n",
    "    ax.set_xlabel(\"Hour\")\n",
    "    ax.set_title(\"OHLC of Stock Value During Trading Day\")\n",
    "    plt.show()"
   ]
  },
  {
   "attachments": {},
   "cell_type": "markdown",
   "metadata": {},
   "source": [
    "**59.** Generate a day's worth of random stock data, and aggregate / reformat it so that it has hourly summaries of the opening, highest, lowest, and closing prices"
   ]
  },
  {
   "cell_type": "code",
   "execution_count": 86,
   "metadata": {
    "collapsed": true
   },
   "outputs": [
    {
     "name": "stdout",
     "output_type": "stream",
     "text": [
      "                        Opening     Highest      Lowest     Closing\n",
      "Timestamp                                                          \n",
      "2023-05-30 00:00:00  137.454012  165.979360  120.476493  120.727765\n",
      "2023-05-30 01:00:00  195.071431  198.941225  117.574378  183.925903\n",
      "2023-05-30 02:00:00  173.199394  178.550773  170.973007  176.329406\n",
      "2023-05-30 03:00:00  159.865848  180.504211  146.403984  171.263294\n",
      "2023-05-30 04:00:00  115.601864  165.600549  114.657935  153.948463\n",
      "2023-05-30 05:00:00  115.599452  119.519892  113.958816  114.370584\n",
      "2023-05-30 06:00:00  105.808361  163.034006  103.472819  124.823463\n",
      "2023-05-30 07:00:00  186.617615  188.899634  179.850547  180.899056\n",
      "2023-05-30 08:00:00  160.111501  162.706312  105.319417  154.850242\n",
      "2023-05-30 09:00:00  170.807258  198.507829  113.877009  166.627240\n",
      "2023-05-30 10:00:00  102.058449  196.633948  100.093098  132.038275\n",
      "2023-05-30 11:00:00  196.990985  199.423465  131.554109  135.867774\n",
      "2023-05-30 12:00:00  183.244264  188.348292  132.355155  149.768031\n",
      "2023-05-30 13:00:00  121.233911  128.927161  105.761801  113.294790\n",
      "2023-05-30 14:00:00  118.182497  174.164735  115.068517  158.185482\n",
      "2023-05-30 15:00:00  118.340451  154.283105  106.543017  136.980067\n",
      "2023-05-30 16:00:00  130.424224  138.915129  108.547215  135.490015\n",
      "2023-05-30 17:00:00  152.475643  176.008607  128.478326  150.922834\n",
      "2023-05-30 18:00:00  143.194502  145.147959  106.087152  110.758599\n",
      "2023-05-30 19:00:00  129.122914  193.572894  123.362314  173.439644\n",
      "2023-05-30 20:00:00  161.185289  171.229760  104.561403  155.281692\n",
      "2023-05-30 21:00:00  113.949386  170.959835  113.766467  145.867800\n",
      "2023-05-30 22:00:00  129.214465  151.279100  122.560718  144.701648\n",
      "2023-05-30 23:00:00  136.636184  169.589679  107.280184  138.048338\n"
     ]
    }
   ],
   "source": [
    "import pandas as pd\n",
    "import numpy as np\n",
    "\n",
    "# Set the random seed for reproducibility\n",
    "np.random.seed(42)\n",
    "\n",
    "# Generate random stock data for a day (24 hours)\n",
    "num_hours = 24\n",
    "timestamps = pd.date_range('2023-05-30', periods=num_hours, freq='H')\n",
    "opening_prices = np.random.uniform(100, 200, num_hours)\n",
    "highest_prices = np.random.uniform(opening_prices, 200, num_hours)\n",
    "lowest_prices = np.random.uniform(100, opening_prices, num_hours)\n",
    "closing_prices = np.random.uniform(lowest_prices, highest_prices, num_hours)\n",
    "\n",
    "# Create a DataFrame with the generated data\n",
    "df = pd.DataFrame({'Timestamp': timestamps,\n",
    "                   'Opening': opening_prices,\n",
    "                   'Highest': highest_prices,\n",
    "                   'Lowest': lowest_prices,\n",
    "                   'Closing': closing_prices})\n",
    "\n",
    "# Set the Timestamp column as the index\n",
    "df.set_index('Timestamp', inplace=True)\n",
    "\n",
    "# Resample the data to hourly frequency and compute the summary statistics\n",
    "hourly_summary = df.resample('H').agg({'Opening': 'first',\n",
    "                                       'Highest': 'max',\n",
    "                                       'Lowest': 'min',\n",
    "                                       'Closing': 'last'})\n",
    "\n",
    "print(hourly_summary)\n"
   ]
  },
  {
   "attachments": {},
   "cell_type": "markdown",
   "metadata": {},
   "source": [
    "**60.** Now that you have your properly-formatted data, try to plot it yourself as a candlestick chart.  Use the ```plot_candlestick(df)``` function above, or matplotlib's [```plot``` documentation](https://matplotlib.org/api/_as_gen/matplotlib.axes.Axes.plot.html) if you get stuck."
   ]
  },
  {
   "cell_type": "code",
   "execution_count": null,
   "metadata": {
    "collapsed": true
   },
   "outputs": [],
   "source": []
  },
  {
   "attachments": {},
   "cell_type": "markdown",
   "metadata": {},
   "source": []
  }
 ],
 "metadata": {
  "kernelspec": {
   "display_name": "Python 3",
   "language": "python",
   "name": "python3"
  },
  "language_info": {
   "codemirror_mode": {
    "name": "ipython",
    "version": 3
   },
   "file_extension": ".py",
   "mimetype": "text/x-python",
   "name": "python",
   "nbconvert_exporter": "python",
   "pygments_lexer": "ipython3",
   "version": "3.10.5"
  }
 },
 "nbformat": 4,
 "nbformat_minor": 1
}
